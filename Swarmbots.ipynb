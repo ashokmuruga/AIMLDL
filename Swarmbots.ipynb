{
  "nbformat": 4,
  "nbformat_minor": 0,
  "metadata": {
    "colab": {
      "name": "Swarmbots.ipynb",
      "provenance": [],
      "authorship_tag": "ABX9TyNDVKUWQAePD99+atRCsZsJ",
      "include_colab_link": true
    },
    "kernelspec": {
      "name": "python3",
      "display_name": "Python 3"
    },
    "accelerator": "TPU"
  },
  "cells": [
    {
      "cell_type": "markdown",
      "metadata": {
        "id": "view-in-github",
        "colab_type": "text"
      },
      "source": [
        "<a href=\"https://colab.research.google.com/github/ashokmuruga/AIMLDL/blob/master/Swarmbots.ipynb\" target=\"_parent\"><img src=\"https://colab.research.google.com/assets/colab-badge.svg\" alt=\"Open In Colab\"/></a>"
      ]
    },
    {
      "cell_type": "code",
      "metadata": {
        "id": "Sv5Dys4yZwiC",
        "colab_type": "code",
        "outputId": "0c16119a-8788-45ce-f63c-0c259f3c492e",
        "colab": {
          "base_uri": "https://localhost:8080/",
          "height": 145
        }
      },
      "source": [
        "!git clone https://github.com/rmvanarse/swarmbots"
      ],
      "execution_count": 0,
      "outputs": [
        {
          "output_type": "stream",
          "text": [
            "Cloning into 'swarmbots'...\n",
            "remote: Enumerating objects: 775, done.\u001b[K\n",
            "remote: Counting objects: 100% (775/775), done.\u001b[K\n",
            "remote: Compressing objects: 100% (540/540), done.\u001b[K\n",
            "remote: Total 775 (delta 281), reused 685 (delta 194), pack-reused 0\u001b[K\n",
            "Receiving objects: 100% (775/775), 14.84 MiB | 34.46 MiB/s, done.\n",
            "Resolving deltas: 100% (281/281), done.\n"
          ],
          "name": "stdout"
        }
      ]
    },
    {
      "cell_type": "code",
      "metadata": {
        "id": "8X-Gh1cMkXT9",
        "colab_type": "code",
        "colab": {}
      },
      "source": [
        "%matplotlib inline"
      ],
      "execution_count": 0,
      "outputs": []
    },
    {
      "cell_type": "code",
      "metadata": {
        "id": "v7GH-kIxaSLH",
        "colab_type": "code",
        "outputId": "83707fe5-2942-4c66-bb75-608d1f7c8e33",
        "colab": {
          "base_uri": "https://localhost:8080/",
          "height": 963
        }
      },
      "source": [
        "!python /content/swarmbots/algorithm_simulation/simulate_pyplot.py"
      ],
      "execution_count": 0,
      "outputs": [
        {
          "output_type": "stream",
          "text": [
            "BOT 0\n",
            "Position: 4.009298403977125,3.98623731202811\n",
            "Direction: 2.7929728939811413\n",
            "State: stop\n",
            "\n",
            "BOT 1\n",
            "Position: 5.602969204914274,4.292630230906136\n",
            "Direction: 0.3640432255226034\n",
            "State: stop\n",
            "\n",
            "BOT 2\n",
            "Position: 6.435154431621598,2.186931272942172\n",
            "Direction: 4.603914684461859\n",
            "State: stop\n",
            "\n",
            "BOT 3\n",
            "Position: 8.18783959799685,9.331924587518941\n",
            "Direction: 3.9233169824972456\n",
            "State: stop\n",
            "\n",
            "BOT 4\n",
            "Position: 2.024055574921616,6.441896933818606\n",
            "Direction: 1.7285685168946547\n",
            "State: stop\n",
            "\n",
            "BOT 5\n",
            "Position: 5.552628612418687,4.791368508745326\n",
            "Direction: 0.172372980066046\n",
            "State: stop\n",
            "\n",
            "BOT 6\n",
            "Position: 9.725173954547499,6.411332451296586\n",
            "Direction: 0.7750323751510684\n",
            "State: stop\n",
            "\n",
            "BOT 7\n",
            "Position: 1.1739121091585814,2.1411391297108837\n",
            "Direction: 5.750745084664327\n",
            "State: stop\n",
            "\n",
            "BOT 8\n",
            "Position: 4.6497598782707446,1.4919529545611254\n",
            "Direction: 4.335070260720693\n",
            "State: stop\n",
            "\n",
            "BOT 9\n",
            "Position: 4.094628628939745,6.155638125741486\n",
            "Direction: 0.3694039995851452\n",
            "State: stop\n",
            "\n",
            "10\n",
            "<Figure size 640x480 with 1 Axes>\n"
          ],
          "name": "stdout"
        }
      ]
    },
    {
      "cell_type": "code",
      "metadata": {
        "id": "sONoSRd3kVhU",
        "colab_type": "code",
        "colab": {}
      },
      "source": [
        ""
      ],
      "execution_count": 0,
      "outputs": []
    }
  ]
}