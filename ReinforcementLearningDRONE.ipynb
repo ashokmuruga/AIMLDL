{
  "nbformat": 4,
  "nbformat_minor": 0,
  "metadata": {
    "colab": {
      "name": "ReinforcementLearningDRONE.ipynb",
      "provenance": [],
      "authorship_tag": "ABX9TyPrIl2007gYc5NTJwl4aqoJ",
      "include_colab_link": true
    },
    "kernelspec": {
      "name": "python3",
      "display_name": "Python 3"
    },
    "accelerator": "GPU"
  },
  "cells": [
    {
      "cell_type": "markdown",
      "metadata": {
        "id": "view-in-github",
        "colab_type": "text"
      },
      "source": [
        "<a href=\"https://colab.research.google.com/github/ashokmuruga/AIMLDL/blob/master/ReinforcementLearningDRONE.ipynb\" target=\"_parent\"><img src=\"https://colab.research.google.com/assets/colab-badge.svg\" alt=\"Open In Colab\"/></a>"
      ]
    },
    {
      "cell_type": "code",
      "metadata": {
        "id": "J2XfZAo4kSN5",
        "colab_type": "code",
        "colab": {
          "base_uri": "https://localhost:8080/",
          "height": 102
        },
        "outputId": "aba01bd7-aac4-4251-fe8a-abbd06350b50"
      },
      "source": [
        "!git clone https://github.com/abhijitmajumdar/Reinforcement_Learning_Car_Simulator.git"
      ],
      "execution_count": 1,
      "outputs": [
        {
          "output_type": "stream",
          "text": [
            "Cloning into 'Reinforcement_Learning_Car_Simulator'...\n",
            "remote: Enumerating objects: 212, done.\u001b[K\n",
            "remote: Total 212 (delta 0), reused 0 (delta 0), pack-reused 212\u001b[K\n",
            "Receiving objects: 100% (212/212), 10.40 MiB | 12.52 MiB/s, done.\n",
            "Resolving deltas: 100% (121/121), done.\n"
          ],
          "name": "stdout"
        }
      ]
    },
    {
      "cell_type": "code",
      "metadata": {
        "id": "ZS4FNPB4lIqO",
        "colab_type": "code",
        "colab": {
          "base_uri": "https://localhost:8080/",
          "height": 204
        },
        "outputId": "f7bf9a91-4954-47d0-9b42-93c115327e03"
      },
      "source": [
        "!python /content/Reinforcement_Learning_Car_Simulator/rlcarsim.py --control dqn"
      ],
      "execution_count": 14,
      "outputs": [
        {
          "output_type": "stream",
          "text": [
            "Using TensorFlow backend.\n",
            "Traceback (most recent call last):\n",
            "  File \"/content/Reinforcement_Learning_Car_Simulator/rlcarsim.py\", line 261, in <module>\n",
            "    rl_control_dqn(config_file=args.config,arena_select=args.arena,load_weights=args.load_weights,testing=args.test)\n",
            "  File \"/content/Reinforcement_Learning_Car_Simulator/rlcarsim.py\", line 64, in rl_control_dqn\n",
            "    rl_params,car_definitions,env_definition = Utils.configurator(config_file)\n",
            "  File \"/content/Reinforcement_Learning_Car_Simulator/Simulator/Utils.py\", line 22, in configurator\n",
            "    for key in config['Reinforcement Parameters']:\n",
            "  File \"/usr/local/lib/python3.6/dist-packages/configobj.py\", line 554, in __getitem__\n",
            "    val = dict.__getitem__(self, key)\n",
            "KeyError: 'Reinforcement Parameters'\n"
          ],
          "name": "stdout"
        }
      ]
    },
    {
      "cell_type": "code",
      "metadata": {
        "id": "RImBeAhBmlEI",
        "colab_type": "code",
        "colab": {
          "base_uri": "https://localhost:8080/",
          "height": 102
        },
        "outputId": "3584f7ec-1717-485e-93f7-85888b458255"
      },
      "source": [
        "!apt-get install python3-tk "
      ],
      "execution_count": 6,
      "outputs": [
        {
          "output_type": "stream",
          "text": [
            "Reading package lists... Done\n",
            "Building dependency tree       \n",
            "Reading state information... Done\n",
            "python3-tk is already the newest version (3.6.9-1~18.04).\n",
            "0 upgraded, 0 newly installed, 0 to remove and 25 not upgraded.\n"
          ],
          "name": "stdout"
        }
      ]
    },
    {
      "cell_type": "code",
      "metadata": {
        "id": "cHCJJGT6mSWo",
        "colab_type": "code",
        "colab": {
          "base_uri": "https://localhost:8080/",
          "height": 207
        },
        "outputId": "075376ba-dc57-48b1-8f5c-46b1b2adf7f9"
      },
      "source": [
        "!pip install configobj"
      ],
      "execution_count": 13,
      "outputs": [
        {
          "output_type": "stream",
          "text": [
            "Collecting configobj\n",
            "  Downloading https://files.pythonhosted.org/packages/64/61/079eb60459c44929e684fa7d9e2fdca403f67d64dd9dbac27296be2e0fab/configobj-5.0.6.tar.gz\n",
            "Requirement already satisfied: six in /usr/local/lib/python3.6/dist-packages (from configobj) (1.12.0)\n",
            "Building wheels for collected packages: configobj\n",
            "  Building wheel for configobj (setup.py) ... \u001b[?25l\u001b[?25hdone\n",
            "  Created wheel for configobj: filename=configobj-5.0.6-cp36-none-any.whl size=34546 sha256=19ce6b6c19d26dc4bbe68ee8214039f345cf883dcf08e1ccfeea1b28d18a6386\n",
            "  Stored in directory: /root/.cache/pip/wheels/f1/e4/16/4981ca97c2d65106b49861e0b35e2660695be7219a2d351ee0\n",
            "Successfully built configobj\n",
            "Installing collected packages: configobj\n",
            "Successfully installed configobj-5.0.6\n"
          ],
          "name": "stdout"
        }
      ]
    }
  ]
}