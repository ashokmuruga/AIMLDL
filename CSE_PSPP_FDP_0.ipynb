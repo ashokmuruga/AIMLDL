{
  "nbformat": 4,
  "nbformat_minor": 0,
  "metadata": {
    "colab": {
      "name": "CSE_PSPP_FDP_0.ipynb",
      "version": "0.3.2",
      "provenance": [],
      "include_colab_link": true
    },
    "kernelspec": {
      "name": "python3",
      "display_name": "Python 3"
    }
  },
  "cells": [
    {
      "cell_type": "markdown",
      "metadata": {
        "id": "view-in-github",
        "colab_type": "text"
      },
      "source": [
        "<a href=\"https://colab.research.google.com/github/ashokmuruga/AIMLDL/blob/master/CSE_PSPP_FDP_0.ipynb\" target=\"_parent\"><img src=\"https://colab.research.google.com/assets/colab-badge.svg\" alt=\"Open In Colab\"/></a>"
      ]
    },
    {
      "cell_type": "code",
      "metadata": {
        "id": "xQrzkBgl8IiR",
        "colab_type": "code",
        "outputId": "7e403f02-b0d2-40da-8964-935ceecd0844",
        "colab": {
          "base_uri": "https://localhost:8080/",
          "height": 34
        }
      },
      "source": [
        "def function1():  \n",
        "    print(\"hello world\")  \n",
        "  \n",
        "function1()    "
      ],
      "execution_count": 0,
      "outputs": [
        {
          "output_type": "stream",
          "text": [
            "hello world\n"
          ],
          "name": "stdout"
        }
      ]
    },
    {
      "cell_type": "code",
      "metadata": {
        "id": "RCqUlxhz8eJC",
        "colab_type": "code",
        "outputId": "2c59b6bb-0797-4e3f-af14-29dc6ecd98ed",
        "colab": {
          "base_uri": "https://localhost:8080/",
          "height": 34
        }
      },
      "source": [
        "#defining the function  \n",
        "def func (name):  \n",
        "    print(\"Hi \",name);  \n",
        "  \n",
        "#calling the function   \n",
        "func(\"Ayush\")  "
      ],
      "execution_count": 0,
      "outputs": [
        {
          "output_type": "stream",
          "text": [
            "Hi  Ayush\n"
          ],
          "name": "stdout"
        }
      ]
    },
    {
      "cell_type": "code",
      "metadata": {
        "id": "SzeneYei8j9H",
        "colab_type": "code",
        "outputId": "ff2dbf47-3573-4d4d-ac0f-4c2265b96ffe",
        "colab": {
          "base_uri": "https://localhost:8080/",
          "height": 68
        }
      },
      "source": [
        "#python function to calculate the sum of two variables   \n",
        "#defining the function  \n",
        "def sum (a,b):  \n",
        "    return a+b;  \n",
        "  \n",
        "#taking values from the user  \n",
        "a = int(input(\"Enter a: \"))  \n",
        "b = int(input(\"Enter b: \"))  \n",
        "  \n",
        "#printing the sum of a and b  \n",
        "print(\"Sum = \",sum(a,b))  "
      ],
      "execution_count": 0,
      "outputs": [
        {
          "output_type": "stream",
          "text": [
            "Enter a: 5\n",
            "Enter b: 3\n",
            "Sum =  8\n"
          ],
          "name": "stdout"
        }
      ]
    },
    {
      "cell_type": "code",
      "metadata": {
        "id": "RelQ9ozB8rav",
        "colab_type": "code",
        "outputId": "740b4b6c-a5c8-4215-c33c-74c5476fd492",
        "colab": {
          "base_uri": "https://localhost:8080/",
          "height": 51
        }
      },
      "source": [
        "#defining the function  \n",
        "def change_list(list1):  \n",
        "    list1.append(20);  \n",
        "    list1.append(30);  \n",
        "    print(\"list inside function = \",list1)  \n",
        "  \n",
        "#defining the list  \n",
        "list1 = [10,30,40,50]  \n",
        "  \n",
        "#calling the function   \n",
        "change_list(list1);  \n",
        "print(\"list outside function = \",list1);  "
      ],
      "execution_count": 0,
      "outputs": [
        {
          "output_type": "stream",
          "text": [
            "list inside function =  [10, 30, 40, 50, 20, 30]\n",
            "list outside function =  [10, 30, 40, 50, 20, 30]\n"
          ],
          "name": "stdout"
        }
      ]
    },
    {
      "cell_type": "code",
      "metadata": {
        "id": "FTxIaVxi85no",
        "colab_type": "code",
        "outputId": "c7e5a346-8bbc-43a2-d944-7e076c616bde",
        "colab": {
          "base_uri": "https://localhost:8080/",
          "height": 51
        }
      },
      "source": [
        "#defining the function  \n",
        "def change_string (str):  \n",
        "    str = str + \" Hows you\";  \n",
        "    print(\"printing the string inside function :\",str);  \n",
        "  \n",
        "string1 = \"Hi I am there\"  \n",
        "  \n",
        "#calling the function  \n",
        "change_string(string1)  \n",
        "  \n",
        "print(\"printing the string outside function :\",string1)  "
      ],
      "execution_count": 0,
      "outputs": [
        {
          "output_type": "stream",
          "text": [
            "printing the string inside function : Hi I am there Hows you\n",
            "printing the string outside function : Hi I am there\n"
          ],
          "name": "stdout"
        }
      ]
    },
    {
      "cell_type": "code",
      "metadata": {
        "id": "NbRAA4bO9Ehi",
        "colab_type": "code",
        "outputId": "00719701-48c4-48a5-83c1-098f596dfbf5",
        "colab": {
          "base_uri": "https://localhost:8080/",
          "height": 51
        }
      },
      "source": [
        "#the argument name is the required argument to the function func   \n",
        "def func(name):  \n",
        "    message = \"Hi \"+name;  \n",
        "    return message;  \n",
        "name = input(\"Enter the name?\")  \n",
        "print(func(name))  "
      ],
      "execution_count": 0,
      "outputs": [
        {
          "output_type": "stream",
          "text": [
            "Enter the name?Ashok\n",
            "Hi Ashok\n"
          ],
          "name": "stdout"
        }
      ]
    },
    {
      "cell_type": "code",
      "metadata": {
        "id": "s50Pkptb9LoH",
        "colab_type": "code",
        "outputId": "42a044d3-bac2-48db-8a4e-4d3efe14c179",
        "colab": {
          "base_uri": "https://localhost:8080/",
          "height": 85
        }
      },
      "source": [
        "#the function simple_interest accepts three arguments and returns the simple interest accordingly  \n",
        "def simple_interest(p,t,r):  \n",
        "    return (p*t*r)/100  \n",
        "p = float(input(\"Enter the principle amount? \"))  \n",
        "r = float(input(\"Enter the rate of interest? \"))  \n",
        "t = float(input(\"Enter the time in years? \"))  \n",
        "print(\"Simple Interest: \",simple_interest(p,r,t))  "
      ],
      "execution_count": 0,
      "outputs": [
        {
          "output_type": "stream",
          "text": [
            "Enter the principle amount? 10000\n",
            "Enter the rate of interest? 5\n",
            "Enter the time in years? 2\n",
            "Simple Interest:  1000.0\n"
          ],
          "name": "stdout"
        }
      ]
    },
    {
      "cell_type": "code",
      "metadata": {
        "id": "bPriw9Mo9Zl9",
        "colab_type": "code",
        "outputId": "b5a88739-8bbb-4b25-c2f1-2c07fd53050c",
        "colab": {
          "base_uri": "https://localhost:8080/",
          "height": 197
        }
      },
      "source": [
        "#the function calculate returns the sum of two arguments a and b  \n",
        "def calculate(a,b):  \n",
        "    return a+b  \n",
        "calculate(10) # this causes an error as we are missing a required arguments b. "
      ],
      "execution_count": 0,
      "outputs": [
        {
          "output_type": "error",
          "ename": "TypeError",
          "evalue": "ignored",
          "traceback": [
            "\u001b[0;31m---------------------------------------------------------------------------\u001b[0m",
            "\u001b[0;31mTypeError\u001b[0m                                 Traceback (most recent call last)",
            "\u001b[0;32m<ipython-input-8-587a48733fb7>\u001b[0m in \u001b[0;36m<module>\u001b[0;34m()\u001b[0m\n\u001b[1;32m      1\u001b[0m \u001b[0;32mdef\u001b[0m \u001b[0mcalculate\u001b[0m\u001b[0;34m(\u001b[0m\u001b[0ma\u001b[0m\u001b[0;34m,\u001b[0m\u001b[0mb\u001b[0m\u001b[0;34m)\u001b[0m\u001b[0;34m:\u001b[0m\u001b[0;34m\u001b[0m\u001b[0;34m\u001b[0m\u001b[0m\n\u001b[1;32m      2\u001b[0m     \u001b[0;32mreturn\u001b[0m \u001b[0ma\u001b[0m\u001b[0;34m+\u001b[0m\u001b[0mb\u001b[0m\u001b[0;34m\u001b[0m\u001b[0;34m\u001b[0m\u001b[0m\n\u001b[0;32m----> 3\u001b[0;31m \u001b[0mcalculate\u001b[0m\u001b[0;34m(\u001b[0m\u001b[0;36m10\u001b[0m\u001b[0;34m)\u001b[0m \u001b[0;31m# this causes an error as we are missing a required arguments b.\u001b[0m\u001b[0;34m\u001b[0m\u001b[0;34m\u001b[0m\u001b[0m\n\u001b[0m",
            "\u001b[0;31mTypeError\u001b[0m: calculate() missing 1 required positional argument: 'b'"
          ]
        }
      ]
    },
    {
      "cell_type": "code",
      "metadata": {
        "id": "IXNdNu5q9fxJ",
        "colab_type": "code",
        "outputId": "610d8a00-8654-4c1c-e20a-277845686d77",
        "colab": {
          "base_uri": "https://localhost:8080/",
          "height": 34
        }
      },
      "source": [
        "#function func is called with the name and message as the keyword arguments  \n",
        "def func(name,message):  \n",
        "    print(\"printing the message with\",name,\"and \",message)  \n",
        "func(name = \"John\",message=\"hello\") #name and message is copied with the values John and hello respectively"
      ],
      "execution_count": 0,
      "outputs": [
        {
          "output_type": "stream",
          "text": [
            "printing the message with John and  hello\n"
          ],
          "name": "stdout"
        }
      ]
    },
    {
      "cell_type": "code",
      "metadata": {
        "id": "U-1E4q4G9mkX",
        "colab_type": "code",
        "outputId": "f731b53c-aa58-4805-c662-f09a66aae605",
        "colab": {
          "base_uri": "https://localhost:8080/",
          "height": 34
        }
      },
      "source": [
        "#The function simple_interest(p, t, r) is called with the keyword arguments the order of arguments doesn't matter in this case  \n",
        "def simple_interest(p,t,r):  \n",
        "    return (p*t*r)/100  \n",
        "print(\"Simple Interest: \",simple_interest(t=10,r=10,p=1900))   "
      ],
      "execution_count": 0,
      "outputs": [
        {
          "output_type": "stream",
          "text": [
            "Simple Interest:  1900.0\n"
          ],
          "name": "stdout"
        }
      ]
    },
    {
      "cell_type": "code",
      "metadata": {
        "id": "5D7RD-ZI9tjv",
        "colab_type": "code",
        "outputId": "adcda342-c779-44a7-8aea-fe9bb7332b23",
        "colab": {
          "base_uri": "https://localhost:8080/",
          "height": 197
        }
      },
      "source": [
        "#The function simple_interest(p, t, r) is called with the keyword arguments.   \n",
        "def simple_interest(p,t,r):  \n",
        "    return (p*t*r)/100  \n",
        "  \n",
        "print(\"Simple Interest: \",simple_interest(time=10,rate=10,principle=1900)) # doesn't find the exact match of the "
      ],
      "execution_count": 0,
      "outputs": [
        {
          "output_type": "error",
          "ename": "TypeError",
          "evalue": "ignored",
          "traceback": [
            "\u001b[0;31m---------------------------------------------------------------------------\u001b[0m",
            "\u001b[0;31mTypeError\u001b[0m                                 Traceback (most recent call last)",
            "\u001b[0;32m<ipython-input-11-83dcc467db59>\u001b[0m in \u001b[0;36m<module>\u001b[0;34m()\u001b[0m\n\u001b[1;32m      2\u001b[0m     \u001b[0;32mreturn\u001b[0m \u001b[0;34m(\u001b[0m\u001b[0mp\u001b[0m\u001b[0;34m*\u001b[0m\u001b[0mt\u001b[0m\u001b[0;34m*\u001b[0m\u001b[0mr\u001b[0m\u001b[0;34m)\u001b[0m\u001b[0;34m/\u001b[0m\u001b[0;36m100\u001b[0m\u001b[0;34m\u001b[0m\u001b[0;34m\u001b[0m\u001b[0m\n\u001b[1;32m      3\u001b[0m \u001b[0;34m\u001b[0m\u001b[0m\n\u001b[0;32m----> 4\u001b[0;31m \u001b[0mprint\u001b[0m\u001b[0;34m(\u001b[0m\u001b[0;34m\"Simple Interest: \"\u001b[0m\u001b[0;34m,\u001b[0m\u001b[0msimple_interest\u001b[0m\u001b[0;34m(\u001b[0m\u001b[0mtime\u001b[0m\u001b[0;34m=\u001b[0m\u001b[0;36m10\u001b[0m\u001b[0;34m,\u001b[0m\u001b[0mrate\u001b[0m\u001b[0;34m=\u001b[0m\u001b[0;36m10\u001b[0m\u001b[0;34m,\u001b[0m\u001b[0mprinciple\u001b[0m\u001b[0;34m=\u001b[0m\u001b[0;36m1900\u001b[0m\u001b[0;34m)\u001b[0m\u001b[0;34m)\u001b[0m \u001b[0;31m# doesn't find the exact match of the\u001b[0m\u001b[0;34m\u001b[0m\u001b[0;34m\u001b[0m\u001b[0m\n\u001b[0m",
            "\u001b[0;31mTypeError\u001b[0m: simple_interest() got an unexpected keyword argument 'time'"
          ]
        }
      ]
    },
    {
      "cell_type": "code",
      "metadata": {
        "id": "UzTLx-bu91_I",
        "colab_type": "code",
        "outputId": "3a4c25fc-f8ed-4405-8edf-3a7447a962e0",
        "colab": {
          "base_uri": "https://localhost:8080/",
          "height": 34
        }
      },
      "source": [
        "def func(name1,message,name2):  \n",
        "    print(\"printing the message with\",name1,\",\",message,\",and\",name2)  \n",
        "func(\"John\",message=\"hello\",name2=\"David\") #the first argument is not the keyword argument  "
      ],
      "execution_count": 0,
      "outputs": [
        {
          "output_type": "stream",
          "text": [
            "printing the message with John , hello ,and David\n"
          ],
          "name": "stdout"
        }
      ]
    },
    {
      "cell_type": "code",
      "metadata": {
        "id": "ZBjpqw3c-JPR",
        "colab_type": "code",
        "outputId": "5a790de2-168d-4702-a0f4-1783c2583e21",
        "colab": {
          "base_uri": "https://localhost:8080/",
          "height": 129
        }
      },
      "source": [
        "def func(name1,message,name2):  \n",
        "    print(\"printing the message with\",name1,\",\",message,\",and\",name2)  \n",
        "func(\"John\",message=\"hello\",\"David\")    "
      ],
      "execution_count": 0,
      "outputs": [
        {
          "output_type": "error",
          "ename": "SyntaxError",
          "evalue": "ignored",
          "traceback": [
            "\u001b[0;36m  File \u001b[0;32m\"<ipython-input-13-ca29d5da1075>\"\u001b[0;36m, line \u001b[0;32m3\u001b[0m\n\u001b[0;31m    func(\"John\",message=\"hello\",\"David\")\u001b[0m\n\u001b[0m                               ^\u001b[0m\n\u001b[0;31mSyntaxError\u001b[0m\u001b[0;31m:\u001b[0m positional argument follows keyword argument\n"
          ]
        }
      ]
    },
    {
      "cell_type": "code",
      "metadata": {
        "id": "3pi-PnNG-SGn",
        "colab_type": "code",
        "outputId": "18d173e6-7e96-4d02-f831-4e0e514721a7",
        "colab": {
          "base_uri": "https://localhost:8080/",
          "height": 34
        }
      },
      "source": [
        "def printme(name,age=22):  \n",
        "    print(\"My name is\",name,\"and age is\",age)  \n",
        "printme(name = \"john\") #the variable age is not passed into the function however the default value of age is conside"
      ],
      "execution_count": 0,
      "outputs": [
        {
          "output_type": "stream",
          "text": [
            "My name is john and age is 22\n"
          ],
          "name": "stdout"
        }
      ]
    },
    {
      "cell_type": "code",
      "metadata": {
        "id": "FQgOB7wi-Vc2",
        "colab_type": "code",
        "outputId": "9088c82f-a982-45f1-9275-010ff25c903b",
        "colab": {
          "base_uri": "https://localhost:8080/",
          "height": 51
        }
      },
      "source": [
        "def printme(name,age=22):  \n",
        "    print(\"My name is\",name,\"and age is\",age)  \n",
        "printme(name = \"john\") #the variable age is not passed into the function however the default value of age is considered in the function  \n",
        "printme(age = 10,name=\"David\") #the value of age is overwritten here, 10 will be printed as age  "
      ],
      "execution_count": 0,
      "outputs": [
        {
          "output_type": "stream",
          "text": [
            "My name is john and age is 22\n",
            "My name is David and age is 10\n"
          ],
          "name": "stdout"
        }
      ]
    },
    {
      "cell_type": "code",
      "metadata": {
        "id": "g1h_MXWy-i-M",
        "colab_type": "code",
        "outputId": "6542da9a-2675-4289-fea4-72ca15e643fa",
        "colab": {
          "base_uri": "https://localhost:8080/",
          "height": 119
        }
      },
      "source": [
        "def printme(*names):  \n",
        "    print(\"type of passed argument is \",type(names))  \n",
        "    print(\"printing the passed arguments...\")  \n",
        "    for name in names:  \n",
        "        print(name)  \n",
        "printme(\"john\",\"David\",\"smith\",\"nick\")  "
      ],
      "execution_count": 0,
      "outputs": [
        {
          "output_type": "stream",
          "text": [
            "type of passed argument is  <class 'tuple'>\n",
            "printing the passed arguments...\n",
            "john\n",
            "David\n",
            "smith\n",
            "nick\n"
          ],
          "name": "stdout"
        }
      ]
    },
    {
      "cell_type": "code",
      "metadata": {
        "id": "XqpfHzIs-wV5",
        "colab_type": "code",
        "outputId": "ac66273f-e2f1-4442-f14b-3cd98b496444",
        "colab": {
          "base_uri": "https://localhost:8080/",
          "height": 214
        }
      },
      "source": [
        "def print_message():  \n",
        "    message = \"hello !! I am going to print a message.\" # the variable message is local to the function itself  \n",
        "    print(message)  \n",
        "print_message()  \n",
        "print(message) # this will cause an error since a local variable cannot be accessible here. "
      ],
      "execution_count": 0,
      "outputs": [
        {
          "output_type": "stream",
          "text": [
            "hello !! I am going to print a message.\n"
          ],
          "name": "stdout"
        },
        {
          "output_type": "error",
          "ename": "NameError",
          "evalue": "ignored",
          "traceback": [
            "\u001b[0;31m---------------------------------------------------------------------------\u001b[0m",
            "\u001b[0;31mNameError\u001b[0m                                 Traceback (most recent call last)",
            "\u001b[0;32m<ipython-input-17-3f4fc8102539>\u001b[0m in \u001b[0;36m<module>\u001b[0;34m()\u001b[0m\n\u001b[1;32m      3\u001b[0m     \u001b[0mprint\u001b[0m\u001b[0;34m(\u001b[0m\u001b[0mmessage\u001b[0m\u001b[0;34m)\u001b[0m\u001b[0;34m\u001b[0m\u001b[0;34m\u001b[0m\u001b[0m\n\u001b[1;32m      4\u001b[0m \u001b[0mprint_message\u001b[0m\u001b[0;34m(\u001b[0m\u001b[0;34m)\u001b[0m\u001b[0;34m\u001b[0m\u001b[0;34m\u001b[0m\u001b[0m\n\u001b[0;32m----> 5\u001b[0;31m \u001b[0mprint\u001b[0m\u001b[0;34m(\u001b[0m\u001b[0mmessage\u001b[0m\u001b[0;34m)\u001b[0m \u001b[0;31m# this will cause an error since a local variable cannot be accessible here.\u001b[0m\u001b[0;34m\u001b[0m\u001b[0;34m\u001b[0m\u001b[0m\n\u001b[0m",
            "\u001b[0;31mNameError\u001b[0m: name 'message' is not defined"
          ]
        }
      ]
    },
    {
      "cell_type": "code",
      "metadata": {
        "id": "X2MT59dC-13p",
        "colab_type": "code",
        "outputId": "e56261fc-662b-4653-d690-a1b69ad0b791",
        "colab": {
          "base_uri": "https://localhost:8080/",
          "height": 51
        }
      },
      "source": [
        "def calculate(*args):  \n",
        "    sum=0  \n",
        "    for arg in args:  \n",
        "        sum = sum +arg  \n",
        "    print(\"The sum is\",sum)  \n",
        "sum=0  \n",
        "calculate(10,20,30) #60 will be printed as the sum  \n",
        "print(\"Value of sum outside the function:\",sum) # 0 will be printed  "
      ],
      "execution_count": 0,
      "outputs": [
        {
          "output_type": "stream",
          "text": [
            "The sum is 60\n",
            "Value of sum outside the function: 0\n"
          ],
          "name": "stdout"
        }
      ]
    },
    {
      "cell_type": "code",
      "metadata": {
        "id": "3Q8WrKeJ_TzI",
        "colab_type": "code",
        "outputId": "f3ab40ec-7c12-42a2-890b-927b6d1e75be",
        "colab": {
          "base_uri": "https://localhost:8080/",
          "height": 51
        }
      },
      "source": [
        "def recur_factorial(n):  \n",
        "   if n == 1:  \n",
        "       return n  \n",
        "   else:  \n",
        "       return n*recur_factorial(n-1)  \n",
        "# take input from the user  \n",
        "num = int(input(\"Enter a number: \"))  \n",
        "# check is the number is negative  \n",
        "if num < 0:  \n",
        "   print(\"Sorry, factorial does not exist for negative numbers\")  \n",
        "elif num == 0:  \n",
        "   print(\"The factorial of 0 is 1\")  \n",
        "else:  \n",
        "   print(\"The factorial of\",num,\"is\",recur_factorial(num))  "
      ],
      "execution_count": 0,
      "outputs": [
        {
          "output_type": "stream",
          "text": [
            "Enter a number: 5\n",
            "The factorial of 5 is 120\n"
          ],
          "name": "stdout"
        }
      ]
    },
    {
      "cell_type": "code",
      "metadata": {
        "id": "DMHcMalI_rmP",
        "colab_type": "code",
        "outputId": "74b8874b-bfee-4bc4-b3f4-f84fbc6c2a23",
        "colab": {
          "base_uri": "https://localhost:8080/",
          "height": 221
        }
      },
      "source": [
        "def recur_fibo(n):  \n",
        "   if n <= 1:  \n",
        "       return n  \n",
        "   else:  \n",
        "       return(recur_fibo(n-1) + recur_fibo(n-2))  \n",
        "# take input from the user  \n",
        "nterms = int(input(\"How many terms? \"))  \n",
        "# check if the number of terms is valid  \n",
        "if nterms <= 0:  \n",
        "   print(\"Plese enter a positive integer\")  \n",
        "else:  \n",
        "   print(\"Fibonacci sequence:\")  \n",
        "   for i in range(nterms):  \n",
        "       print(recur_fibo(i))  "
      ],
      "execution_count": 0,
      "outputs": [
        {
          "output_type": "stream",
          "text": [
            "How many terms? 10\n",
            "Fibonacci sequence:\n",
            "0\n",
            "1\n",
            "1\n",
            "2\n",
            "3\n",
            "5\n",
            "8\n",
            "13\n",
            "21\n",
            "34\n"
          ],
          "name": "stdout"
        }
      ]
    },
    {
      "cell_type": "code",
      "metadata": {
        "id": "SrZkeONNARAH",
        "colab_type": "code",
        "outputId": "0c0b811b-b3f4-47c3-a447-270cc1a5d8e0",
        "colab": {
          "base_uri": "https://localhost:8080/",
          "height": 51
        }
      },
      "source": [
        "class Employee:  \n",
        "    id = 10;  \n",
        "    name = \"John\"  \n",
        "    def display (self):  \n",
        "        print(\"ID: %d \\nName: %s\"%(self.id,self.name))  \n",
        "emp = Employee()  \n",
        "emp.display()  "
      ],
      "execution_count": 0,
      "outputs": [
        {
          "output_type": "stream",
          "text": [
            "ID: 10 \n",
            "Name: John\n"
          ],
          "name": "stdout"
        }
      ]
    },
    {
      "cell_type": "code",
      "metadata": {
        "id": "MgG3f4qMAX85",
        "colab_type": "code",
        "outputId": "ebdac1de-8aff-45db-a3a0-a78fc3f8eedb",
        "colab": {
          "base_uri": "https://localhost:8080/",
          "height": 85
        }
      },
      "source": [
        "class Employee:  \n",
        "    def __init__(self,name,id):  \n",
        "        self.id = id;  \n",
        "        self.name = name;  \n",
        "    def display (self):  \n",
        "        print(\"ID: %d \\nName: %s\"%(self.id,self.name))  \n",
        "emp1 = Employee(\"John\",101)  \n",
        "emp2 = Employee(\"David\",102)  \n",
        "  \n",
        "#accessing display() method to print employee 1 information  \n",
        "   \n",
        "emp1.display();   \n",
        "  \n",
        "#accessing display() method to print employee 2 information  \n",
        "emp2.display();   "
      ],
      "execution_count": 0,
      "outputs": [
        {
          "output_type": "stream",
          "text": [
            "ID: 101 \n",
            "Name: John\n",
            "ID: 102 \n",
            "Name: David\n"
          ],
          "name": "stdout"
        }
      ]
    },
    {
      "cell_type": "code",
      "metadata": {
        "id": "ubDNCmVVAc0B",
        "colab_type": "code",
        "outputId": "76e184d3-fa7e-4855-8605-6757eef3184f",
        "colab": {
          "base_uri": "https://localhost:8080/",
          "height": 34
        }
      },
      "source": [
        "class Student:  \n",
        "    count = 0  \n",
        "    def __init__(self):  \n",
        "        Student.count = Student.count + 1  \n",
        "s1=Student()  \n",
        "s2=Student()  \n",
        "s3=Student()  \n",
        "print(\"The number of students:\",Student.count)  "
      ],
      "execution_count": 0,
      "outputs": [
        {
          "output_type": "stream",
          "text": [
            "The number of students: 3\n"
          ],
          "name": "stdout"
        }
      ]
    },
    {
      "cell_type": "code",
      "metadata": {
        "id": "C7M_aI-zAhNp",
        "colab_type": "code",
        "outputId": "e9c7d27a-3d18-490d-b3e0-b5593742a0fe",
        "colab": {
          "base_uri": "https://localhost:8080/",
          "height": 51
        }
      },
      "source": [
        "class Student:    \n",
        "    # Constructor - non parameterized    \n",
        "    def __init__(self):    \n",
        "        print(\"This is non parametrized constructor\")    \n",
        "    def show(self,name):    \n",
        "        print(\"Hello\",name)    \n",
        "student = Student()    \n",
        "student.show(\"John\")    "
      ],
      "execution_count": 0,
      "outputs": [
        {
          "output_type": "stream",
          "text": [
            "This is non parametrized constructor\n",
            "Hello John\n"
          ],
          "name": "stdout"
        }
      ]
    },
    {
      "cell_type": "code",
      "metadata": {
        "id": "HD1NggpZAl_o",
        "colab_type": "code",
        "outputId": "359373bb-aac6-4abb-9afd-fdcc8ccbd943",
        "colab": {
          "base_uri": "https://localhost:8080/",
          "height": 51
        }
      },
      "source": [
        "class Student:    \n",
        "    # Constructor - parameterized    \n",
        "    def __init__(self, name):    \n",
        "        print(\"This is parametrized constructor\")    \n",
        "        self.name = name    \n",
        "    def show(self):    \n",
        "        print(\"Hello\",self.name)    \n",
        "student = Student(\"John\")    \n",
        "student.show()  "
      ],
      "execution_count": 0,
      "outputs": [
        {
          "output_type": "stream",
          "text": [
            "This is parametrized constructor\n",
            "Hello John\n"
          ],
          "name": "stdout"
        }
      ]
    },
    {
      "cell_type": "code",
      "metadata": {
        "id": "ORcB9w1qAvS0",
        "colab_type": "code",
        "outputId": "e257f596-7fc5-4fd6-d529-9f6d0c718d1e",
        "colab": {
          "base_uri": "https://localhost:8080/",
          "height": 248
        }
      },
      "source": [
        "class Student:  \n",
        "    def __init__(self,name,id,age):  \n",
        "        self.name = name;  \n",
        "        self.id = id;  \n",
        "        self.age = age  \n",
        "  \n",
        "#creates the object of the class Student  \n",
        "s = Student(\"John\",101,22)  \n",
        "  \n",
        "#prints the attribute name of the object s  \n",
        "print(getattr(s,'name'))  \n",
        "  \n",
        "# reset the value of attribute age to 23  \n",
        "setattr(s,\"age\",23)  \n",
        "  \n",
        "# prints the modified value of age  \n",
        "print(getattr(s,'age'))  \n",
        "  \n",
        "# prints true if the student contains the attribute with name id  \n",
        "  \n",
        "print(hasattr(s,'id'))  \n",
        "# deletes the attribute age  \n",
        "delattr(s,'age')  \n",
        "  \n",
        "# this will give an error since the attribute age has been deleted  \n",
        "print(s.age)  "
      ],
      "execution_count": 0,
      "outputs": [
        {
          "output_type": "stream",
          "text": [
            "John\n",
            "23\n",
            "True\n"
          ],
          "name": "stdout"
        },
        {
          "output_type": "error",
          "ename": "AttributeError",
          "evalue": "ignored",
          "traceback": [
            "\u001b[0;31m---------------------------------------------------------------------------\u001b[0m",
            "\u001b[0;31mAttributeError\u001b[0m                            Traceback (most recent call last)",
            "\u001b[0;32m<ipython-input-26-f9c08685b0bd>\u001b[0m in \u001b[0;36m<module>\u001b[0;34m()\u001b[0m\n\u001b[1;32m     24\u001b[0m \u001b[0;34m\u001b[0m\u001b[0m\n\u001b[1;32m     25\u001b[0m \u001b[0;31m# this will give an error since the attribute age has been deleted\u001b[0m\u001b[0;34m\u001b[0m\u001b[0;34m\u001b[0m\u001b[0;34m\u001b[0m\u001b[0m\n\u001b[0;32m---> 26\u001b[0;31m \u001b[0mprint\u001b[0m\u001b[0;34m(\u001b[0m\u001b[0ms\u001b[0m\u001b[0;34m.\u001b[0m\u001b[0mage\u001b[0m\u001b[0;34m)\u001b[0m\u001b[0;34m\u001b[0m\u001b[0;34m\u001b[0m\u001b[0m\n\u001b[0m",
            "\u001b[0;31mAttributeError\u001b[0m: 'Student' object has no attribute 'age'"
          ]
        }
      ]
    },
    {
      "cell_type": "code",
      "metadata": {
        "id": "GaIgWlTEA3Sw",
        "colab_type": "code",
        "outputId": "6eaa0bfe-4fab-4623-aa93-5907ac30996a",
        "colab": {
          "base_uri": "https://localhost:8080/",
          "height": 68
        }
      },
      "source": [
        "class Student:  \n",
        "    def __init__(self,name,id,age):  \n",
        "        self.name = name;  \n",
        "        self.id = id;  \n",
        "        self.age = age  \n",
        "    def display_details(self):  \n",
        "        print(\"Name:%s, ID:%d, age:%d\"%(self.name,self.id))  \n",
        "s = Student(\"John\",101,22)  \n",
        "print(s.__doc__)  \n",
        "print(s.__dict__)  \n",
        "print(s.__module__)  "
      ],
      "execution_count": 0,
      "outputs": [
        {
          "output_type": "stream",
          "text": [
            "None\n",
            "{'name': 'John', 'id': 101, 'age': 22}\n",
            "__main__\n"
          ],
          "name": "stdout"
        }
      ]
    },
    {
      "cell_type": "code",
      "metadata": {
        "id": "XIELYzwCA8-A",
        "colab_type": "code",
        "outputId": "b8932554-7798-4ba0-afa2-240385b982e8",
        "colab": {
          "base_uri": "https://localhost:8080/",
          "height": 51
        }
      },
      "source": [
        "class Animal:  \n",
        "    def speak(self):  \n",
        "        print(\"Animal Speaking\")  \n",
        "#child class Dog inherits the base class Animal  \n",
        "class Dog(Animal):  \n",
        "    def bark(self):  \n",
        "        print(\"dog barking\")  \n",
        "d = Dog()  \n",
        "d.bark()  \n",
        "d.speak()  "
      ],
      "execution_count": 0,
      "outputs": [
        {
          "output_type": "stream",
          "text": [
            "dog barking\n",
            "Animal Speaking\n"
          ],
          "name": "stdout"
        }
      ]
    },
    {
      "cell_type": "code",
      "metadata": {
        "id": "0hMeiipjA-kK",
        "colab_type": "code",
        "outputId": "701128a4-4d12-412a-c984-01ac9e36e0d7",
        "colab": {
          "base_uri": "https://localhost:8080/",
          "height": 68
        }
      },
      "source": [
        "class Animal:  \n",
        "    def speak(self):  \n",
        "        print(\"Animal Speaking\")  \n",
        "#The child class Dog inherits the base class Animal  \n",
        "class Dog(Animal):  \n",
        "    def bark(self):  \n",
        "        print(\"dog barking\")  \n",
        "#The child class Dogchild inherits another child class Dog  \n",
        "class DogChild(Dog):  \n",
        "    def eat(self):  \n",
        "        print(\"Eating bread...\")  \n",
        "d = DogChild()  \n",
        "d.bark()  \n",
        "d.speak()  \n",
        "d.eat()  "
      ],
      "execution_count": 0,
      "outputs": [
        {
          "output_type": "stream",
          "text": [
            "dog barking\n",
            "Animal Speaking\n",
            "Eating bread...\n"
          ],
          "name": "stdout"
        }
      ]
    },
    {
      "cell_type": "code",
      "metadata": {
        "id": "j93UlyseBG_D",
        "colab_type": "code",
        "outputId": "21215cd3-72fd-4668-b5f1-7b4c8469d0ad",
        "colab": {
          "base_uri": "https://localhost:8080/",
          "height": 68
        }
      },
      "source": [
        "class Calculation1:  \n",
        "    def Summation(self,a,b):  \n",
        "        return a+b;  \n",
        "class Calculation2:  \n",
        "    def Multiplication(self,a,b):  \n",
        "        return a*b;  \n",
        "class Derived(Calculation1,Calculation2):  \n",
        "    def Divide(self,a,b):  \n",
        "        return a/b;  \n",
        "d = Derived()  \n",
        "print(d.Summation(10,20))  \n",
        "print(d.Multiplication(10,20))  \n",
        "print(d.Divide(10,20))  "
      ],
      "execution_count": 0,
      "outputs": [
        {
          "output_type": "stream",
          "text": [
            "30\n",
            "200\n",
            "0.5\n"
          ],
          "name": "stdout"
        }
      ]
    },
    {
      "cell_type": "code",
      "metadata": {
        "id": "JDUOiPxQBK2n",
        "colab_type": "code",
        "outputId": "1a5039e8-abed-42c9-9dd8-fb4560bc02bd",
        "colab": {
          "base_uri": "https://localhost:8080/",
          "height": 51
        }
      },
      "source": [
        "class Calculation1:  \n",
        "    def Summation(self,a,b):  \n",
        "        return a+b;  \n",
        "class Calculation2:  \n",
        "    def Multiplication(self,a,b):  \n",
        "        return a*b;  \n",
        "class Derived(Calculation1,Calculation2):  \n",
        "    def Divide(self,a,b):  \n",
        "        return a/b;  \n",
        "d = Derived()  \n",
        "print(issubclass(Derived,Calculation2))  \n",
        "print(issubclass(Calculation1,Calculation2)) "
      ],
      "execution_count": 0,
      "outputs": [
        {
          "output_type": "stream",
          "text": [
            "True\n",
            "False\n"
          ],
          "name": "stdout"
        }
      ]
    },
    {
      "cell_type": "code",
      "metadata": {
        "id": "iF-otCM6BO7k",
        "colab_type": "code",
        "outputId": "5b948c0b-8506-43a6-9592-dca7fb1e1a8d",
        "colab": {
          "base_uri": "https://localhost:8080/",
          "height": 34
        }
      },
      "source": [
        "class Calculation1:  \n",
        "    def Summation(self,a,b):  \n",
        "        return a+b;  \n",
        "class Calculation2:  \n",
        "    def Multiplication(self,a,b):  \n",
        "        return a*b;  \n",
        "class Derived(Calculation1,Calculation2):  \n",
        "    def Divide(self,a,b):  \n",
        "        return a/b;  \n",
        "d = Derived()  \n",
        "print(isinstance(d,Derived)) "
      ],
      "execution_count": 0,
      "outputs": [
        {
          "output_type": "stream",
          "text": [
            "True\n"
          ],
          "name": "stdout"
        }
      ]
    },
    {
      "cell_type": "code",
      "metadata": {
        "id": "zMCENeALBSvz",
        "colab_type": "code",
        "outputId": "a2846f00-5a65-479b-af45-f11995989bdd",
        "colab": {
          "base_uri": "https://localhost:8080/",
          "height": 34
        }
      },
      "source": [
        "class Animal:  \n",
        "    def speak(self):  \n",
        "        print(\"speaking\")  \n",
        "class Dog(Animal):  \n",
        "    def speak(self):  \n",
        "        print(\"Barking\")  \n",
        "d = Dog()  \n",
        "d.speak()  "
      ],
      "execution_count": 0,
      "outputs": [
        {
          "output_type": "stream",
          "text": [
            "Barking\n"
          ],
          "name": "stdout"
        }
      ]
    },
    {
      "cell_type": "code",
      "metadata": {
        "id": "gT3dB6-8Bch7",
        "colab_type": "code",
        "outputId": "f22c9e0c-3bee-4886-bec3-2763aae898f5",
        "colab": {
          "base_uri": "https://localhost:8080/",
          "height": 68
        }
      },
      "source": [
        "class Bank:  \n",
        "    def getroi(self):  \n",
        "        return 10;  \n",
        "class SBI(Bank):  \n",
        "    def getroi(self):  \n",
        "        return 7;  \n",
        "  \n",
        "class ICICI(Bank):  \n",
        "    def getroi(self):  \n",
        "        return 8;  \n",
        "b1 = Bank()  \n",
        "b2 = SBI()  \n",
        "b3 = ICICI()  \n",
        "print(\"Bank Rate of interest:\",b1.getroi());  \n",
        "print(\"SBI Rate of interest:\",b2.getroi());  \n",
        "print(\"ICICI Rate of interest:\",b3.getroi()); "
      ],
      "execution_count": 0,
      "outputs": [
        {
          "output_type": "stream",
          "text": [
            "Bank Rate of interest: 10\n",
            "SBI Rate of interest: 7\n",
            "ICICI Rate of interest: 8\n"
          ],
          "name": "stdout"
        }
      ]
    },
    {
      "cell_type": "code",
      "metadata": {
        "id": "uiYEgesfBo9a",
        "colab_type": "code",
        "outputId": "60bad69c-22db-40e4-cd5f-78e25f4a1944",
        "colab": {
          "base_uri": "https://localhost:8080/",
          "height": 248
        }
      },
      "source": [
        "class Employee:  \n",
        "    __count = 0;  \n",
        "    def __init__(self):  \n",
        "        Employee.__count = Employee.__count+1  \n",
        "    def display(self):  \n",
        "        print(\"The number of employees\",Employee.__count)  \n",
        "emp = Employee()  \n",
        "emp2 = Employee()  \n",
        "try:  \n",
        "    print(emp.__count)  \n",
        "finally:  \n",
        "    emp.display()  "
      ],
      "execution_count": 0,
      "outputs": [
        {
          "output_type": "stream",
          "text": [
            "The number of employees 2\n"
          ],
          "name": "stdout"
        },
        {
          "output_type": "error",
          "ename": "AttributeError",
          "evalue": "ignored",
          "traceback": [
            "\u001b[0;31m---------------------------------------------------------------------------\u001b[0m",
            "\u001b[0;31mAttributeError\u001b[0m                            Traceback (most recent call last)",
            "\u001b[0;32m<ipython-input-35-ad9a434d9cba>\u001b[0m in \u001b[0;36m<module>\u001b[0;34m()\u001b[0m\n\u001b[1;32m      8\u001b[0m \u001b[0memp2\u001b[0m \u001b[0;34m=\u001b[0m \u001b[0mEmployee\u001b[0m\u001b[0;34m(\u001b[0m\u001b[0;34m)\u001b[0m\u001b[0;34m\u001b[0m\u001b[0;34m\u001b[0m\u001b[0m\n\u001b[1;32m      9\u001b[0m \u001b[0;32mtry\u001b[0m\u001b[0;34m:\u001b[0m\u001b[0;34m\u001b[0m\u001b[0;34m\u001b[0m\u001b[0m\n\u001b[0;32m---> 10\u001b[0;31m     \u001b[0mprint\u001b[0m\u001b[0;34m(\u001b[0m\u001b[0memp\u001b[0m\u001b[0;34m.\u001b[0m\u001b[0m__count\u001b[0m\u001b[0;34m)\u001b[0m\u001b[0;34m\u001b[0m\u001b[0;34m\u001b[0m\u001b[0m\n\u001b[0m\u001b[1;32m     11\u001b[0m \u001b[0;32mfinally\u001b[0m\u001b[0;34m:\u001b[0m\u001b[0;34m\u001b[0m\u001b[0;34m\u001b[0m\u001b[0m\n\u001b[1;32m     12\u001b[0m     \u001b[0memp\u001b[0m\u001b[0;34m.\u001b[0m\u001b[0mdisplay\u001b[0m\u001b[0;34m(\u001b[0m\u001b[0;34m)\u001b[0m\u001b[0;34m\u001b[0m\u001b[0;34m\u001b[0m\u001b[0m\n",
            "\u001b[0;31mAttributeError\u001b[0m: 'Employee' object has no attribute '__count'"
          ]
        }
      ]
    },
    {
      "cell_type": "code",
      "metadata": {
        "id": "-62LEyl-Y0uP",
        "colab_type": "code",
        "outputId": "f3110eb6-0cb2-4b03-8bf3-65d5d3fc95bf",
        "colab": {
          "base_uri": "https://localhost:8080/",
          "height": 34
        }
      },
      "source": [
        "#opens the file file.txt in read mode  \n",
        "fileptr = open(\"file.txt\",\"r\")  \n",
        "  \n",
        "if fileptr:  \n",
        "    print(\"file is opened successfully\")  "
      ],
      "execution_count": 0,
      "outputs": [
        {
          "output_type": "stream",
          "text": [
            "file is opened successfully\n"
          ],
          "name": "stdout"
        }
      ]
    },
    {
      "cell_type": "code",
      "metadata": {
        "id": "9SG8WWO-ZhZ3",
        "colab_type": "code",
        "outputId": "83e5ebf4-5101-4ee2-dc45-152064b445c8",
        "colab": {
          "base_uri": "https://localhost:8080/",
          "height": 34
        }
      },
      "source": [
        "# opens the file file.txt in read mode  \n",
        "fileptr = open(\"file.txt\",\"r\")  \n",
        "  \n",
        "if fileptr:  \n",
        "    print(\"file is opened successfully\")  \n",
        "  \n",
        "#closes the opened file  \n",
        "fileptr.close()  "
      ],
      "execution_count": 0,
      "outputs": [
        {
          "output_type": "stream",
          "text": [
            "file is opened successfully\n"
          ],
          "name": "stdout"
        }
      ]
    },
    {
      "cell_type": "code",
      "metadata": {
        "id": "JCpo6-uAZrQg",
        "colab_type": "code",
        "outputId": "91642a71-f370-4e20-e012-f85643a99c61",
        "colab": {
          "base_uri": "https://localhost:8080/",
          "height": 51
        }
      },
      "source": [
        "#open the file.txt in read mode. causes error if no such file exists.  \n",
        "fileptr = open(\"file.txt\",\"r\");   \n",
        "  \n",
        "#stores all the data of the file into the variable content  \n",
        "content = fileptr.read(9);   \n",
        "  \n",
        "# prints the type of the data stored in the file  \n",
        "print(type(content))   \n",
        "  \n",
        "#prints the content of the file  \n",
        "print(content)   \n",
        "  \n",
        "#closes the opened file  \n",
        "fileptr.close()  "
      ],
      "execution_count": 0,
      "outputs": [
        {
          "output_type": "stream",
          "text": [
            "<class 'str'>\n",
            "This is a\n"
          ],
          "name": "stdout"
        }
      ]
    },
    {
      "cell_type": "code",
      "metadata": {
        "id": "ZXVpkHPcZzZm",
        "colab_type": "code",
        "outputId": "d532a219-b844-462e-f505-9a52b5531cf1",
        "colab": {
          "base_uri": "https://localhost:8080/",
          "height": 51
        }
      },
      "source": [
        "#open the file.txt in read mode. causes error if no such file exists.  \n",
        "fileptr = open(\"file.txt\",\"r\");   \n",
        "  \n",
        "#stores all the data of the file into the variable content  \n",
        "content = fileptr.readline();   \n",
        "  \n",
        "# prints the type of the data stored in the file  \n",
        "print(type(content))   \n",
        "  \n",
        "#prints the content of the file  \n",
        "print(content)   \n",
        "  \n",
        "#closes the opened file  \n",
        "fileptr.close()  "
      ],
      "execution_count": 0,
      "outputs": [
        {
          "output_type": "stream",
          "text": [
            "<class 'str'>\n",
            "This is ashok\n"
          ],
          "name": "stdout"
        }
      ]
    },
    {
      "cell_type": "code",
      "metadata": {
        "id": "IpQ9z3SxZ51I",
        "colab_type": "code",
        "outputId": "e971109f-eb7a-457c-ee24-390c60d8cddb",
        "colab": {
          "base_uri": "https://localhost:8080/",
          "height": 34
        }
      },
      "source": [
        "#open the file.txt in read mode. causes an error if no such file exists.  \n",
        "  \n",
        "  \n",
        "fileptr = open(\"file.txt\",\"r\");   \n",
        "  \n",
        "#running a for loop   \n",
        "for i in fileptr:  \n",
        "    print(i) # i contains each line of the file   \n"
      ],
      "execution_count": 0,
      "outputs": [
        {
          "output_type": "stream",
          "text": [
            "This is ashok\n"
          ],
          "name": "stdout"
        }
      ]
    },
    {
      "cell_type": "code",
      "metadata": {
        "id": "Pb5TJqzcZ_Ym",
        "colab_type": "code",
        "colab": {}
      },
      "source": [
        "#open the file.txt in append mode. Creates a new file if no such file exists.  \n",
        "fileptr = open(\"file.txt\",\"a\");   \n",
        "  \n",
        "#appending the content to the file  \n",
        "fileptr.write(\"Python is the modern day language. It makes things so simple.\")  \n",
        "  \n",
        "  \n",
        "#closing the opened file   \n",
        "fileptr.close();  "
      ],
      "execution_count": 0,
      "outputs": []
    }
  ]
}