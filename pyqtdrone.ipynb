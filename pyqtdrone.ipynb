{
  "nbformat": 4,
  "nbformat_minor": 0,
  "metadata": {
    "colab": {
      "name": "pyqtdrone.ipynb",
      "provenance": [],
      "authorship_tag": "ABX9TyPXA9juSys5RdA7nddOjgw3",
      "include_colab_link": true
    },
    "kernelspec": {
      "name": "python3",
      "display_name": "Python 3"
    },
    "accelerator": "GPU"
  },
  "cells": [
    {
      "cell_type": "markdown",
      "metadata": {
        "id": "view-in-github",
        "colab_type": "text"
      },
      "source": [
        "<a href=\"https://colab.research.google.com/github/ashokmuruga/AIMLDL/blob/master/pyqtdrone.ipynb\" target=\"_parent\"><img src=\"https://colab.research.google.com/assets/colab-badge.svg\" alt=\"Open In Colab\"/></a>"
      ]
    },
    {
      "cell_type": "code",
      "metadata": {
        "id": "139NSxV09cIM",
        "colab_type": "code",
        "colab": {
          "base_uri": "https://localhost:8080/",
          "height": 136
        },
        "outputId": "d2f1705e-1ae7-461b-c9b3-c22815dc7126"
      },
      "source": [
        "!git clone https://github.com/USC-ACTLab/crazyswarm.git"
      ],
      "execution_count": 1,
      "outputs": [
        {
          "output_type": "stream",
          "text": [
            "Cloning into 'crazyswarm'...\n",
            "remote: Enumerating objects: 48, done.\u001b[K\n",
            "remote: Counting objects:   2% (1/48)\u001b[K\rremote: Counting objects:   4% (2/48)\u001b[K\rremote: Counting objects:   6% (3/48)\u001b[K\rremote: Counting objects:   8% (4/48)\u001b[K\rremote: Counting objects:  10% (5/48)\u001b[K\rremote: Counting objects:  12% (6/48)\u001b[K\rremote: Counting objects:  14% (7/48)\u001b[K\rremote: Counting objects:  16% (8/48)\u001b[K\rremote: Counting objects:  18% (9/48)\u001b[K\rremote: Counting objects:  20% (10/48)\u001b[K\rremote: Counting objects:  22% (11/48)\u001b[K\rremote: Counting objects:  25% (12/48)\u001b[K\rremote: Counting objects:  27% (13/48)\u001b[K\rremote: Counting objects:  29% (14/48)\u001b[K\rremote: Counting objects:  31% (15/48)\u001b[K\rremote: Counting objects:  33% (16/48)\u001b[K\rremote: Counting objects:  35% (17/48)\u001b[K\rremote: Counting objects:  37% (18/48)\u001b[K\rremote: Counting objects:  39% (19/48)\u001b[K\rremote: Counting objects:  41% (20/48)\u001b[K\rremote: Counting objects:  43% (21/48)\u001b[K\rremote: Counting objects:  45% (22/48)\u001b[K\rremote: Counting objects:  47% (23/48)\u001b[K\rremote: Counting objects:  50% (24/48)\u001b[K\rremote: Counting objects:  52% (25/48)\u001b[K\rremote: Counting objects:  54% (26/48)\u001b[K\rremote: Counting objects:  56% (27/48)\u001b[K\rremote: Counting objects:  58% (28/48)\u001b[K\rremote: Counting objects:  60% (29/48)\u001b[K\rremote: Counting objects:  62% (30/48)\u001b[K\rremote: Counting objects:  64% (31/48)\u001b[K\rremote: Counting objects:  66% (32/48)\u001b[K\rremote: Counting objects:  68% (33/48)\u001b[K\rremote: Counting objects:  70% (34/48)\u001b[K\rremote: Counting objects:  72% (35/48)\u001b[K\rremote: Counting objects:  75% (36/48)\u001b[K\rremote: Counting objects:  77% (37/48)\u001b[K\rremote: Counting objects:  79% (38/48)\u001b[K\rremote: Counting objects:  81% (39/48)\u001b[K\rremote: Counting objects:  83% (40/48)\u001b[K\rremote: Counting objects:  85% (41/48)\u001b[K\rremote: Counting objects:  87% (42/48)\u001b[K\rremote: Counting objects:  89% (43/48)\u001b[K\rremote: Counting objects:  91% (44/48)\u001b[K\rremote: Counting objects:  93% (45/48)\u001b[K\rremote: Counting objects:  95% (46/48)\u001b[K\rremote: Counting objects:  97% (47/48)\u001b[K\rremote: Counting objects: 100% (48/48)\u001b[K\rremote: Counting objects: 100% (48/48), done.\u001b[K\n",
            "remote: Compressing objects: 100% (29/29), done.\u001b[K\n",
            "remote: Total 2880 (delta 22), reused 34 (delta 19), pack-reused 2832\u001b[K\n",
            "Receiving objects: 100% (2880/2880), 3.19 MiB | 14.85 MiB/s, done.\n",
            "Resolving deltas: 100% (1601/1601), done.\n"
          ],
          "name": "stdout"
        }
      ]
    },
    {
      "cell_type": "code",
      "metadata": {
        "id": "zcC63TbW9u0_",
        "colab_type": "code",
        "colab": {
          "base_uri": "https://localhost:8080/",
          "height": 119
        },
        "outputId": "58492c67-375e-4145-92e0-9f0c6d691ef5"
      },
      "source": [
        "!python /content/crazyswarm/ros_ws/src/crazyswarm/scripts/figure8_csv.py --sim"
      ],
      "execution_count": 4,
      "outputs": [
        {
          "output_type": "stream",
          "text": [
            "Traceback (most recent call last):\n",
            "  File \"/content/crazyswarm/ros_ws/src/crazyswarm/scripts/figure8_csv.py\", line 5, in <module>\n",
            "    from pycrazyswarm import *\n",
            "  File \"/content/crazyswarm/ros_ws/src/crazyswarm/scripts/pycrazyswarm/piecewise.py\", line 1, in <module>\n",
            "    from .cfsim import cffirmware as firm\n",
            "ImportError: cannot import name 'cffirmware'\n"
          ],
          "name": "stdout"
        }
      ]
    },
    {
      "cell_type": "code",
      "metadata": {
        "id": "_y0QMb99-svD",
        "colab_type": "code",
        "colab": {
          "base_uri": "https://localhost:8080/",
          "height": 85
        },
        "outputId": "f9cc8b86-1082-4e52-ccac-894f1e168169"
      },
      "source": [
        "!apt-get install pycrazyswarm"
      ],
      "execution_count": 8,
      "outputs": [
        {
          "output_type": "stream",
          "text": [
            "Reading package lists... Done\n",
            "Building dependency tree       \n",
            "Reading state information... Done\n",
            "E: Unable to locate package pycrazyswarm\n"
          ],
          "name": "stdout"
        }
      ]
    },
    {
      "cell_type": "code",
      "metadata": {
        "id": "9HABxT2vArR2",
        "colab_type": "code",
        "colab": {
          "base_uri": "https://localhost:8080/",
          "height": 102
        },
        "outputId": "e2f00f76-615a-45e0-8229-11fb4b90b2a6"
      },
      "source": [
        "!git clone https://github.com/USC-ACTLab/pyCreate2.git"
      ],
      "execution_count": 9,
      "outputs": [
        {
          "output_type": "stream",
          "text": [
            "Cloning into 'pyCreate2'...\n",
            "remote: Enumerating objects: 134, done.\u001b[K\n",
            "Receiving objects:   0% (1/134)   \rReceiving objects:   1% (2/134)   \rReceiving objects:   2% (3/134)   \rReceiving objects:   3% (5/134)   \rReceiving objects:   4% (6/134)   \rReceiving objects:   5% (7/134)   \rReceiving objects:   6% (9/134)   \rReceiving objects:   7% (10/134)   \rReceiving objects:   8% (11/134)   \rReceiving objects:   9% (13/134)   \rReceiving objects:  10% (14/134)   \rReceiving objects:  11% (15/134)   \rReceiving objects:  12% (17/134)   \rReceiving objects:  13% (18/134)   \rReceiving objects:  14% (19/134)   \rReceiving objects:  15% (21/134)   \rReceiving objects:  16% (22/134)   \rReceiving objects:  17% (23/134)   \rReceiving objects:  18% (25/134)   \rReceiving objects:  19% (26/134)   \rReceiving objects:  20% (27/134)   \rReceiving objects:  21% (29/134)   \rReceiving objects:  22% (30/134)   \rReceiving objects:  23% (31/134)   \rReceiving objects:  24% (33/134)   \rReceiving objects:  25% (34/134)   \rReceiving objects:  26% (35/134)   \rReceiving objects:  27% (37/134)   \rReceiving objects:  28% (38/134)   \rReceiving objects:  29% (39/134)   \rReceiving objects:  30% (41/134)   \rReceiving objects:  31% (42/134)   \rReceiving objects:  32% (43/134)   \rReceiving objects:  33% (45/134)   \rReceiving objects:  34% (46/134)   \rReceiving objects:  35% (47/134)   \rReceiving objects:  36% (49/134)   \rReceiving objects:  37% (50/134)   \rReceiving objects:  38% (51/134)   \rReceiving objects:  39% (53/134)   \rReceiving objects:  40% (54/134)   \rReceiving objects:  41% (55/134)   \rReceiving objects:  42% (57/134)   \rReceiving objects:  43% (58/134)   \rReceiving objects:  44% (59/134)   \rReceiving objects:  45% (61/134)   \rReceiving objects:  46% (62/134)   \rReceiving objects:  47% (63/134)   \rReceiving objects:  48% (65/134)   \rReceiving objects:  49% (66/134)   \rReceiving objects:  50% (67/134)   \rReceiving objects:  51% (69/134)   \rReceiving objects:  52% (70/134)   \rReceiving objects:  53% (72/134)   \rReceiving objects:  54% (73/134)   \rReceiving objects:  55% (74/134)   \rReceiving objects:  56% (76/134)   \rReceiving objects:  57% (77/134)   \rReceiving objects:  58% (78/134)   \rReceiving objects:  59% (80/134)   \rReceiving objects:  60% (81/134)   \rReceiving objects:  61% (82/134)   \rReceiving objects:  62% (84/134)   \rReceiving objects:  63% (85/134)   \rReceiving objects:  64% (86/134)   \rReceiving objects:  65% (88/134)   \rReceiving objects:  66% (89/134)   \rReceiving objects:  67% (90/134)   \rremote: Total 134 (delta 0), reused 0 (delta 0), pack-reused 134\u001b[K\n",
            "Receiving objects:  68% (92/134)   \rReceiving objects:  69% (93/134)   \rReceiving objects:  70% (94/134)   \rReceiving objects:  71% (96/134)   \rReceiving objects:  72% (97/134)   \rReceiving objects:  73% (98/134)   \rReceiving objects:  74% (100/134)   \rReceiving objects:  75% (101/134)   \rReceiving objects:  76% (102/134)   \rReceiving objects:  77% (104/134)   \rReceiving objects:  78% (105/134)   \rReceiving objects:  79% (106/134)   \rReceiving objects:  80% (108/134)   \rReceiving objects:  81% (109/134)   \rReceiving objects:  82% (110/134)   \rReceiving objects:  83% (112/134)   \rReceiving objects:  84% (113/134)   \rReceiving objects:  85% (114/134)   \rReceiving objects:  86% (116/134)   \rReceiving objects:  87% (117/134)   \rReceiving objects:  88% (118/134)   \rReceiving objects:  89% (120/134)   \rReceiving objects:  90% (121/134)   \rReceiving objects:  91% (122/134)   \rReceiving objects:  92% (124/134)   \rReceiving objects:  93% (125/134)   \rReceiving objects:  94% (126/134)   \rReceiving objects:  95% (128/134)   \rReceiving objects:  96% (129/134)   \rReceiving objects:  97% (130/134)   \rReceiving objects:  98% (132/134)   \rReceiving objects:  99% (133/134)   \rReceiving objects: 100% (134/134)   \rReceiving objects: 100% (134/134), 2.09 MiB | 9.49 MiB/s, done.\n",
            "Resolving deltas:   0% (0/55)   \rResolving deltas:   7% (4/55)   \rResolving deltas:  14% (8/55)   \rResolving deltas:  16% (9/55)   \rResolving deltas:  18% (10/55)   \rResolving deltas:  20% (11/55)   \rResolving deltas:  21% (12/55)   \rResolving deltas:  23% (13/55)   \rResolving deltas:  25% (14/55)   \rResolving deltas:  30% (17/55)   \rResolving deltas:  36% (20/55)   \rResolving deltas:  38% (21/55)   \rResolving deltas:  50% (28/55)   \rResolving deltas:  60% (33/55)   \rResolving deltas:  61% (34/55)   \rResolving deltas:  67% (37/55)   \rResolving deltas:  85% (47/55)   \rResolving deltas:  87% (48/55)   \rResolving deltas:  98% (54/55)   \rResolving deltas: 100% (55/55)   \rResolving deltas: 100% (55/55), done.\n"
          ],
          "name": "stdout"
        }
      ]
    },
    {
      "cell_type": "code",
      "metadata": {
        "id": "Xh4_5hVmAwk6",
        "colab_type": "code",
        "colab": {
          "base_uri": "https://localhost:8080/",
          "height": 187
        },
        "outputId": "4343296b-a399-481f-e752-50057a6d2711"
      },
      "source": [
        "!python /content/pyCreate2/run.py example1"
      ],
      "execution_count": 14,
      "outputs": [
        {
          "output_type": "stream",
          "text": [
            "Traceback (most recent call last):\n",
            "  File \"/content/pyCreate2/run.py\", line 27, in <module>\n",
            "    factory = FactoryCreate()\n",
            "  File \"/content/pyCreate2/pyCreate2/factory.py\", line 13, in __init__\n",
            "    from .robot import Create2Driver\n",
            "  File \"/content/pyCreate2/pyCreate2/robot/__init__.py\", line 4, in <module>\n",
            "    from .create2_driver import *\n",
            "  File \"/content/pyCreate2/pyCreate2/robot/create2_driver.py\", line 5, in <module>\n",
            "    import serial\n",
            "ModuleNotFoundError: No module named 'serial'\n"
          ],
          "name": "stdout"
        }
      ]
    },
    {
      "cell_type": "code",
      "metadata": {
        "id": "XhvMfUkrGv9l",
        "colab_type": "code",
        "colab": {
          "base_uri": "https://localhost:8080/",
          "height": 85
        },
        "outputId": "6901e76e-e702-4f04-8160-f52f1c29b303"
      },
      "source": [
        "!git clone https://github.com/m4lb0t/uav-swarm-project.git"
      ],
      "execution_count": 15,
      "outputs": [
        {
          "output_type": "stream",
          "text": [
            "Cloning into 'uav-swarm-project'...\n",
            "remote: Enumerating objects: 70, done.\u001b[K\n",
            "Unpacking objects:   1% (1/70)   \rUnpacking objects:   2% (2/70)   \rUnpacking objects:   4% (3/70)   \rUnpacking objects:   5% (4/70)   \rUnpacking objects:   7% (5/70)   \rUnpacking objects:   8% (6/70)   \rUnpacking objects:  10% (7/70)   \rUnpacking objects:  11% (8/70)   \rUnpacking objects:  12% (9/70)   \rUnpacking objects:  14% (10/70)   \rUnpacking objects:  15% (11/70)   \rUnpacking objects:  17% (12/70)   \rUnpacking objects:  18% (13/70)   \rUnpacking objects:  20% (14/70)   \rUnpacking objects:  21% (15/70)   \rUnpacking objects:  22% (16/70)   \rUnpacking objects:  24% (17/70)   \rUnpacking objects:  25% (18/70)   \rUnpacking objects:  27% (19/70)   \rUnpacking objects:  28% (20/70)   \rUnpacking objects:  30% (21/70)   \rUnpacking objects:  31% (22/70)   \rUnpacking objects:  32% (23/70)   \rUnpacking objects:  34% (24/70)   \rremote: Total 70 (delta 0), reused 0 (delta 0), pack-reused 70\u001b[K\n",
            "Unpacking objects:  35% (25/70)   \rUnpacking objects:  37% (26/70)   \rUnpacking objects:  38% (27/70)   \rUnpacking objects:  40% (28/70)   \rUnpacking objects:  41% (29/70)   \rUnpacking objects:  42% (30/70)   \rUnpacking objects:  44% (31/70)   \rUnpacking objects:  45% (32/70)   \rUnpacking objects:  47% (33/70)   \rUnpacking objects:  48% (34/70)   \rUnpacking objects:  50% (35/70)   \rUnpacking objects:  51% (36/70)   \rUnpacking objects:  52% (37/70)   \rUnpacking objects:  54% (38/70)   \rUnpacking objects:  55% (39/70)   \rUnpacking objects:  57% (40/70)   \rUnpacking objects:  58% (41/70)   \rUnpacking objects:  60% (42/70)   \rUnpacking objects:  61% (43/70)   \rUnpacking objects:  62% (44/70)   \rUnpacking objects:  64% (45/70)   \rUnpacking objects:  65% (46/70)   \rUnpacking objects:  67% (47/70)   \rUnpacking objects:  68% (48/70)   \rUnpacking objects:  70% (49/70)   \rUnpacking objects:  71% (50/70)   \rUnpacking objects:  72% (51/70)   \rUnpacking objects:  74% (52/70)   \rUnpacking objects:  75% (53/70)   \rUnpacking objects:  77% (54/70)   \rUnpacking objects:  78% (55/70)   \rUnpacking objects:  80% (56/70)   \rUnpacking objects:  81% (57/70)   \rUnpacking objects:  82% (58/70)   \rUnpacking objects:  84% (59/70)   \rUnpacking objects:  85% (60/70)   \rUnpacking objects:  87% (61/70)   \rUnpacking objects:  88% (62/70)   \rUnpacking objects:  90% (63/70)   \rUnpacking objects:  91% (64/70)   \rUnpacking objects:  92% (65/70)   \rUnpacking objects:  94% (66/70)   \rUnpacking objects:  95% (67/70)   \rUnpacking objects:  97% (68/70)   \rUnpacking objects:  98% (69/70)   \rUnpacking objects: 100% (70/70)   \rUnpacking objects: 100% (70/70), done.\n"
          ],
          "name": "stdout"
        }
      ]
    },
    {
      "cell_type": "code",
      "metadata": {
        "id": "oUGOqAyuG0im",
        "colab_type": "code",
        "colab": {
          "base_uri": "https://localhost:8080/",
          "height": 139
        },
        "outputId": "e75eb278-b15f-4d97-b02e-bd284af3d25d"
      },
      "source": [
        "!python /content/uav-swarm-project/one/PipBoy/Software/UI/PipBoyUI.py"
      ],
      "execution_count": 20,
      "outputs": [
        {
          "output_type": "stream",
          "text": [
            "qt.qpa.xcb: could not connect to display \n",
            "qt.qpa.plugin: Could not load the Qt platform plugin \"xcb\" in \"\" even though it was found.\n",
            "This application failed to start because no Qt platform plugin could be initialized. Reinstalling the application may fix this problem.\n",
            "\n",
            "Available platform plugins are: eglfs, linuxfb, minimal, minimalegl, offscreen, vnc, wayland-egl, wayland, wayland-xcomposite-egl, wayland-xcomposite-glx, webgl, xcb.\n",
            "\n"
          ],
          "name": "stdout"
        }
      ]
    },
    {
      "cell_type": "code",
      "metadata": {
        "id": "mpR7C7pjHy2j",
        "colab_type": "code",
        "colab": {
          "base_uri": "https://localhost:8080/",
          "height": 34
        },
        "outputId": "a42d5825-4b04-43eb-d387-1159ef387f7a"
      },
      "source": [
        "!QT_QPA_PLATFORM=minimal go test -v -race"
      ],
      "execution_count": 22,
      "outputs": [
        {
          "output_type": "stream",
          "text": [
            "/bin/bash: go: command not found\n"
          ],
          "name": "stdout"
        }
      ]
    },
    {
      "cell_type": "code",
      "metadata": {
        "id": "uG1RwOXfHVSE",
        "colab_type": "code",
        "colab": {
          "base_uri": "https://localhost:8080/",
          "height": 173
        },
        "outputId": "0eee82fb-8c83-4fec-827d-128010a97124"
      },
      "source": [
        "!pip install PyQt5"
      ],
      "execution_count": 19,
      "outputs": [
        {
          "output_type": "stream",
          "text": [
            "Collecting PyQt5\n",
            "\u001b[?25l  Downloading https://files.pythonhosted.org/packages/bb/47/640737c9d2eb76a2bf6e8dc101dd195caea07985f1932976629c02ad1432/PyQt5-5.14.1-5.14.1-cp35.cp36.cp37.cp38-abi3-manylinux2014_x86_64.whl (63.5MB)\n",
            "\u001b[K     |████████████████████████████████| 63.5MB 48kB/s \n",
            "\u001b[?25hCollecting PyQt5-sip<13,>=12.7\n",
            "\u001b[?25l  Downloading https://files.pythonhosted.org/packages/a7/5b/4470b7689d683908c3113f489cae3f4f9ed621756770b33fcd603c4d426e/PyQt5_sip-12.7.1-cp36-cp36m-manylinux1_x86_64.whl (252kB)\n",
            "\u001b[K     |████████████████████████████████| 256kB 54.3MB/s \n",
            "\u001b[?25hInstalling collected packages: PyQt5-sip, PyQt5\n",
            "Successfully installed PyQt5-5.14.1 PyQt5-sip-12.7.1\n"
          ],
          "name": "stdout"
        }
      ]
    }
  ]
}