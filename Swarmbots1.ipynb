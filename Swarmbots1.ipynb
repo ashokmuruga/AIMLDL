{
  "nbformat": 4,
  "nbformat_minor": 0,
  "metadata": {
    "colab": {
      "name": "Swarmbots1.ipynb",
      "provenance": [],
      "authorship_tag": "ABX9TyNxo0rbsOA5gu4k2J7OvmXc",
      "include_colab_link": true
    },
    "kernelspec": {
      "name": "python3",
      "display_name": "Python 3"
    },
    "accelerator": "GPU"
  },
  "cells": [
    {
      "cell_type": "markdown",
      "metadata": {
        "id": "view-in-github",
        "colab_type": "text"
      },
      "source": [
        "<a href=\"https://colab.research.google.com/github/ashokmuruga/AIMLDL/blob/master/Swarmbots1.ipynb\" target=\"_parent\"><img src=\"https://colab.research.google.com/assets/colab-badge.svg\" alt=\"Open In Colab\"/></a>"
      ]
    },
    {
      "cell_type": "code",
      "metadata": {
        "id": "W0Up-7U2eHaq",
        "colab_type": "code",
        "colab": {
          "base_uri": "https://localhost:8080/",
          "height": 90
        },
        "outputId": "c5eafd29-f0cc-425b-b637-27904f866427"
      },
      "source": [
        "!git clone https://github.com/Swarm-IITKgp/APF-Simulator.git"
      ],
      "execution_count": 1,
      "outputs": [
        {
          "output_type": "stream",
          "text": [
            "Cloning into 'APF-Simulator'...\n",
            "remote: Enumerating objects: 45, done.\u001b[K\n",
            "Unpacking objects:   2% (1/45)   \rUnpacking objects:   4% (2/45)   \rUnpacking objects:   6% (3/45)   \rUnpacking objects:   8% (4/45)   \rUnpacking objects:  11% (5/45)   \rUnpacking objects:  13% (6/45)   \rUnpacking objects:  15% (7/45)   \rUnpacking objects:  17% (8/45)   \rUnpacking objects:  20% (9/45)   \rUnpacking objects:  22% (10/45)   \rUnpacking objects:  24% (11/45)   \rUnpacking objects:  26% (12/45)   \rUnpacking objects:  28% (13/45)   \rUnpacking objects:  31% (14/45)   \rUnpacking objects:  33% (15/45)   \rUnpacking objects:  35% (16/45)   \rUnpacking objects:  37% (17/45)   \rUnpacking objects:  40% (18/45)   \rUnpacking objects:  42% (19/45)   \rUnpacking objects:  44% (20/45)   \rUnpacking objects:  46% (21/45)   \rUnpacking objects:  48% (22/45)   \rremote: Total 45 (delta 0), reused 0 (delta 0), pack-reused 45\u001b[K\n",
            "Unpacking objects:  51% (23/45)   \rUnpacking objects:  53% (24/45)   \rUnpacking objects:  55% (25/45)   \rUnpacking objects:  57% (26/45)   \rUnpacking objects:  60% (27/45)   \rUnpacking objects:  62% (28/45)   \rUnpacking objects:  64% (29/45)   \rUnpacking objects:  66% (30/45)   \rUnpacking objects:  68% (31/45)   \rUnpacking objects:  71% (32/45)   \rUnpacking objects:  73% (33/45)   \rUnpacking objects:  75% (34/45)   \rUnpacking objects:  77% (35/45)   \rUnpacking objects:  80% (36/45)   \rUnpacking objects:  82% (37/45)   \rUnpacking objects:  84% (38/45)   \rUnpacking objects:  86% (39/45)   \rUnpacking objects:  88% (40/45)   \rUnpacking objects:  91% (41/45)   \rUnpacking objects:  93% (42/45)   \rUnpacking objects:  95% (43/45)   \rUnpacking objects:  97% (44/45)   \rUnpacking objects: 100% (45/45)   \rUnpacking objects: 100% (45/45), done.\n"
          ],
          "name": "stdout"
        }
      ]
    },
    {
      "cell_type": "code",
      "metadata": {
        "id": "aGSqPhYpftF9",
        "colab_type": "code",
        "colab": {
          "base_uri": "https://localhost:8080/",
          "height": 35
        },
        "outputId": "184a09c7-4364-44f0-8b2f-cc5f71383c96"
      },
      "source": [
        "!pip install xlrd"
      ],
      "execution_count": 2,
      "outputs": [
        {
          "output_type": "stream",
          "text": [
            "Requirement already satisfied: xlrd in /usr/local/lib/python3.6/dist-packages (1.1.0)\n"
          ],
          "name": "stdout"
        }
      ]
    },
    {
      "cell_type": "code",
      "metadata": {
        "id": "lrf2rMTJf88M",
        "colab_type": "code",
        "colab": {
          "base_uri": "https://localhost:8080/",
          "height": 35
        },
        "outputId": "5adea11b-8905-45fb-bccf-552f54e255fb"
      },
      "source": [
        ""
      ],
      "execution_count": 5,
      "outputs": [
        {
          "output_type": "stream",
          "text": [
            ": cannot connect to X server \n"
          ],
          "name": "stdout"
        }
      ]
    },
    {
      "cell_type": "code",
      "metadata": {
        "id": "PULftWdphgyF",
        "colab_type": "code",
        "colab": {}
      },
      "source": [
        ""
      ],
      "execution_count": 0,
      "outputs": []
    },
    {
      "cell_type": "code",
      "metadata": {
        "id": "SVWyqoq1gj6d",
        "colab_type": "code",
        "colab": {}
      },
      "source": [
        "%matplotlib notebook"
      ],
      "execution_count": 0,
      "outputs": []
    },
    {
      "cell_type": "code",
      "metadata": {
        "id": "w3mCFHJkhie_",
        "colab_type": "code",
        "colab": {
          "base_uri": "https://localhost:8080/",
          "height": 35
        },
        "outputId": "febd5bd0-b13e-474a-8fb5-41c087c9920a"
      },
      "source": [
        "!python /content/APF-Simulator/simulation.py"
      ],
      "execution_count": 12,
      "outputs": [
        {
          "output_type": "stream",
          "text": [
            ": cannot connect to X server \n"
          ],
          "name": "stdout"
        }
      ]
    }
  ]
}