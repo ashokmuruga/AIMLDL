{
  "nbformat": 4,
  "nbformat_minor": 0,
  "metadata": {
    "colab": {
      "name": "CSE_PSPP_FDP_1.ipynb",
      "version": "0.3.2",
      "provenance": [],
      "include_colab_link": true
    },
    "kernelspec": {
      "name": "python2",
      "display_name": "Python 2"
    }
  },
  "cells": [
    {
      "cell_type": "markdown",
      "metadata": {
        "id": "view-in-github",
        "colab_type": "text"
      },
      "source": [
        "<a href=\"https://colab.research.google.com/github/ashokmuruga/AIMLDL/blob/master/CSE_PSPP_FDP_1.ipynb\" target=\"_parent\"><img src=\"https://colab.research.google.com/assets/colab-badge.svg\" alt=\"Open In Colab\"/></a>"
      ]
    },
    {
      "cell_type": "code",
      "metadata": {
        "id": "97TGJNxEVYTv",
        "colab_type": "code",
        "outputId": "4ce2302e-be66-4f73-fb05-650fd4ae3374",
        "colab": {
          "base_uri": "https://localhost:8080/",
          "height": 34
        }
      },
      "source": [
        "#!/usr/bin/python\n",
        "\n",
        "import sqlite3\n",
        "\n",
        "conn = sqlite3.connect('test.db')\n",
        "\n",
        "print \"Opened database successfully\";"
      ],
      "execution_count": 0,
      "outputs": [
        {
          "output_type": "stream",
          "text": [
            "Opened database successfully\n"
          ],
          "name": "stdout"
        }
      ]
    },
    {
      "cell_type": "code",
      "metadata": {
        "id": "FoTwXFgAViA0",
        "colab_type": "code",
        "outputId": "ddb13686-9965-4410-c978-c33a99e2db34",
        "colab": {
          "base_uri": "https://localhost:8080/",
          "height": 51
        }
      },
      "source": [
        "#!/usr/bin/python\n",
        "\n",
        "import sqlite3\n",
        "\n",
        "conn = sqlite3.connect('test.db')\n",
        "print \"Opened database successfully\";\n",
        "\n",
        "conn.execute('''CREATE TABLE COMPANY\n",
        "         (ID INT PRIMARY KEY     NOT NULL,\n",
        "         NAME           TEXT    NOT NULL,\n",
        "         AGE            INT     NOT NULL,\n",
        "         ADDRESS        CHAR(50),\n",
        "         SALARY         REAL);''')\n",
        "print \"Table created successfully\";\n",
        "\n",
        "conn.close()"
      ],
      "execution_count": 0,
      "outputs": [
        {
          "output_type": "stream",
          "text": [
            "Opened database successfully\n",
            "Table created successfully\n"
          ],
          "name": "stdout"
        }
      ]
    },
    {
      "cell_type": "code",
      "metadata": {
        "id": "1T2MR3GiVnas",
        "colab_type": "code",
        "outputId": "93813f31-a000-40b1-b780-43b35aa716ca",
        "colab": {
          "base_uri": "https://localhost:8080/",
          "height": 51
        }
      },
      "source": [
        "#!/usr/bin/python\n",
        "\n",
        "import sqlite3\n",
        "\n",
        "conn = sqlite3.connect('test.db')\n",
        "print \"Opened database successfully\";\n",
        "\n",
        "conn.execute(\"INSERT INTO COMPANY (ID,NAME,AGE,ADDRESS,SALARY) \\\n",
        "      VALUES (1, 'Paul', 32, 'California', 20000.00 )\");\n",
        "\n",
        "conn.execute(\"INSERT INTO COMPANY (ID,NAME,AGE,ADDRESS,SALARY) \\\n",
        "      VALUES (2, 'Allen', 25, 'Texas', 15000.00 )\");\n",
        "\n",
        "conn.execute(\"INSERT INTO COMPANY (ID,NAME,AGE,ADDRESS,SALARY) \\\n",
        "      VALUES (3, 'Teddy', 23, 'Norway', 20000.00 )\");\n",
        "\n",
        "conn.execute(\"INSERT INTO COMPANY (ID,NAME,AGE,ADDRESS,SALARY) \\\n",
        "      VALUES (4, 'Mark', 25, 'Rich-Mond ', 65000.00 )\");\n",
        "\n",
        "conn.commit()\n",
        "print \"Records created successfully\";\n",
        "conn.close()"
      ],
      "execution_count": 0,
      "outputs": [
        {
          "output_type": "stream",
          "text": [
            "Opened database successfully\n",
            "Records created successfully\n"
          ],
          "name": "stdout"
        }
      ]
    },
    {
      "cell_type": "code",
      "metadata": {
        "id": "iz9FdCE0Vs7D",
        "colab_type": "code",
        "outputId": "7ae717a5-13a3-453b-f130-ddcb6d1b7b6c",
        "colab": {
          "base_uri": "https://localhost:8080/",
          "height": 391
        }
      },
      "source": [
        "#!/usr/bin/python\n",
        "\n",
        "import sqlite3\n",
        "\n",
        "conn = sqlite3.connect('test.db')\n",
        "print \"Opened database successfully\";\n",
        "\n",
        "cursor = conn.execute(\"SELECT id, name, address, salary from COMPANY\")\n",
        "for row in cursor:\n",
        "   print \"ID = \", row[0]\n",
        "   print \"NAME = \", row[1]\n",
        "   print \"ADDRESS = \", row[2]\n",
        "   print \"SALARY = \", row[3], \"\\n\"\n",
        "\n",
        "print \"Operation done successfully\";\n",
        "conn.close()"
      ],
      "execution_count": 0,
      "outputs": [
        {
          "output_type": "stream",
          "text": [
            "Opened database successfully\n",
            "ID =  1\n",
            "NAME =  Paul\n",
            "ADDRESS =  California\n",
            "SALARY =  20000.0 \n",
            "\n",
            "ID =  2\n",
            "NAME =  Allen\n",
            "ADDRESS =  Texas\n",
            "SALARY =  15000.0 \n",
            "\n",
            "ID =  3\n",
            "NAME =  Teddy\n",
            "ADDRESS =  Norway\n",
            "SALARY =  20000.0 \n",
            "\n",
            "ID =  4\n",
            "NAME =  Mark\n",
            "ADDRESS =  Rich-Mond \n",
            "SALARY =  65000.0 \n",
            "\n",
            "Operation done successfully\n"
          ],
          "name": "stdout"
        }
      ]
    },
    {
      "cell_type": "code",
      "metadata": {
        "id": "COTTu0R8Vy1T",
        "colab_type": "code",
        "outputId": "20ad36da-dd42-4a26-e9cb-9d186581944f",
        "colab": {
          "base_uri": "https://localhost:8080/",
          "height": 408
        }
      },
      "source": [
        "#!/usr/bin/python\n",
        "\n",
        "import sqlite3\n",
        "\n",
        "conn = sqlite3.connect('test.db')\n",
        "print \"Opened database successfully\";\n",
        "\n",
        "conn.execute(\"UPDATE COMPANY set SALARY = 25000.00 where ID = 1\")\n",
        "conn.commit\n",
        "print \"Total number of rows updated :\", conn.total_changes\n",
        "\n",
        "cursor = conn.execute(\"SELECT id, name, address, salary from COMPANY\")\n",
        "for row in cursor:\n",
        "   print \"ID = \", row[0]\n",
        "   print \"NAME = \", row[1]\n",
        "   print \"ADDRESS = \", row[2]\n",
        "   print \"SALARY = \", row[3], \"\\n\"\n",
        "\n",
        "print \"Operation done successfully\";\n",
        "conn.close()"
      ],
      "execution_count": 0,
      "outputs": [
        {
          "output_type": "stream",
          "text": [
            "Opened database successfully\n",
            "Total number of rows updated : 1\n",
            "ID =  1\n",
            "NAME =  Paul\n",
            "ADDRESS =  California\n",
            "SALARY =  25000.0 \n",
            "\n",
            "ID =  2\n",
            "NAME =  Allen\n",
            "ADDRESS =  Texas\n",
            "SALARY =  15000.0 \n",
            "\n",
            "ID =  3\n",
            "NAME =  Teddy\n",
            "ADDRESS =  Norway\n",
            "SALARY =  20000.0 \n",
            "\n",
            "ID =  4\n",
            "NAME =  Mark\n",
            "ADDRESS =  Rich-Mond \n",
            "SALARY =  65000.0 \n",
            "\n",
            "Operation done successfully\n"
          ],
          "name": "stdout"
        }
      ]
    },
    {
      "cell_type": "code",
      "metadata": {
        "id": "johgedE0V3Kd",
        "colab_type": "code",
        "outputId": "ac0ebac1-403b-4d39-9697-402e8ab41669",
        "colab": {
          "base_uri": "https://localhost:8080/",
          "height": 323
        }
      },
      "source": [
        "#!/usr/bin/python\n",
        "\n",
        "import sqlite3\n",
        "\n",
        "conn = sqlite3.connect('test.db')\n",
        "print \"Opened database successfully\";\n",
        "\n",
        "conn.execute(\"DELETE from COMPANY where ID = 2;\")\n",
        "conn.commit()\n",
        "print \"Total number of rows deleted :\", conn.total_changes\n",
        "\n",
        "cursor = conn.execute(\"SELECT id, name, address, salary from COMPANY\")\n",
        "for row in cursor:\n",
        "   print \"ID = \", row[0]\n",
        "   print \"NAME = \", row[1]\n",
        "   print \"ADDRESS = \", row[2]\n",
        "   print \"SALARY = \", row[3], \"\\n\"\n",
        "\n",
        "print \"Operation done successfully\";\n",
        "conn.close()"
      ],
      "execution_count": 0,
      "outputs": [
        {
          "output_type": "stream",
          "text": [
            "Opened database successfully\n",
            "Total number of rows deleted : 1\n",
            "ID =  1\n",
            "NAME =  Paul\n",
            "ADDRESS =  California\n",
            "SALARY =  20000.0 \n",
            "\n",
            "ID =  3\n",
            "NAME =  Teddy\n",
            "ADDRESS =  Norway\n",
            "SALARY =  20000.0 \n",
            "\n",
            "ID =  4\n",
            "NAME =  Mark\n",
            "ADDRESS =  Rich-Mond \n",
            "SALARY =  65000.0 \n",
            "\n",
            "Operation done successfully\n"
          ],
          "name": "stdout"
        }
      ]
    }
  ]
}