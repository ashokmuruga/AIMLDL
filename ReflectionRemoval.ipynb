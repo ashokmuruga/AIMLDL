{
  "nbformat": 4,
  "nbformat_minor": 0,
  "metadata": {
    "colab": {
      "name": "ReflectionRemoval.ipynb",
      "provenance": [],
      "collapsed_sections": [],
      "toc_visible": true,
      "include_colab_link": true
    },
    "kernelspec": {
      "name": "python3",
      "display_name": "Python 3"
    },
    "accelerator": "GPU"
  },
  "cells": [
    {
      "cell_type": "markdown",
      "metadata": {
        "id": "view-in-github",
        "colab_type": "text"
      },
      "source": [
        "<a href=\"https://colab.research.google.com/github/ashokmuruga/AIMLDL/blob/master/ReflectionRemoval.ipynb\" target=\"_parent\"><img src=\"https://colab.research.google.com/assets/colab-badge.svg\" alt=\"Open In Colab\"/></a>"
      ]
    },
    {
      "cell_type": "markdown",
      "metadata": {
        "id": "IY-s3ZpHBeAU",
        "colab_type": "text"
      },
      "source": [
        "**[CVPR 2020] Learning to See Through Obstructions**\n",
        "\n",
        "[project website](https://www.cmlab.csie.ntu.edu.tw/~yulunliu/ObstructionRemoval)"
      ]
    },
    {
      "cell_type": "code",
      "metadata": {
        "id": "5o-EIMeaghU0",
        "colab_type": "code",
        "colab": {}
      },
      "source": [
        "# fetch python code and pre-trained weights\n",
        "!wget \"https://www.cmlab.csie.ntu.edu.tw/~yulunliu/ObstructionRemoval_/code_and_ckpt.zip\"\n",
        "!unzip code_and_ckpt.zip"
      ],
      "execution_count": 0,
      "outputs": []
    },
    {
      "cell_type": "code",
      "metadata": {
        "id": "n-Kl6fo1oows",
        "colab_type": "code",
        "colab": {}
      },
      "source": [
        "# run online optimization, there are three example sequences in imgs folder\n",
        "# if you want to test on your own sequences, please upload five frames and rename them into [XXXXX]_I[0~4].png\n",
        "# please remember to change the argument training_scene\n",
        "# this step takes about 20~30 minutes\n",
        "# output: temp_online_ckpt/model.ckpt-500\n",
        "%tensorflow_version 1.x\n",
        "!python train_reflection_online.py --train_dir temp_online_ckpt/ --training_data_path imgs --training_scene 00002"
      ],
      "execution_count": 0,
      "outputs": []
    },
    {
      "cell_type": "code",
      "metadata": {
        "id": "bXa0Ewnzov71",
        "colab_type": "code",
        "colab": {}
      },
      "source": [
        "# testing using trained weights from last step\n",
        "# please change the argument test_dataset_name to match last step\n",
        "# output: \n",
        "#   - output background image: [XXXXX]B2.png\n",
        "#   - output foreground image: [XXXXX]F2.png\n",
        "#   - output background and foreground image with intensity normalization to 0~1: [XXXXX]B2_norm.png, [XXXXX]F2_norm.png\n",
        "%tensorflow_version 1.x\n",
        "import os\n",
        "!python test_reflection.py --test_dataset_name imgs/00002 --img_type png --ckpt_path temp_online_ckpt/model.ckpt-500 --output_dir ./"
      ],
      "execution_count": 0,
      "outputs": []
    }
  ]
}