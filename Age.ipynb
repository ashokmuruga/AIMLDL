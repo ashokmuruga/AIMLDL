{
  "nbformat": 4,
  "nbformat_minor": 0,
  "metadata": {
    "colab": {
      "name": "Age.ipynb",
      "provenance": [],
      "authorship_tag": "ABX9TyNOSPxvILqk658RMvmq8cAv",
      "include_colab_link": true
    },
    "kernelspec": {
      "name": "python3",
      "display_name": "Python 3"
    },
    "accelerator": "GPU"
  },
  "cells": [
    {
      "cell_type": "markdown",
      "metadata": {
        "id": "view-in-github",
        "colab_type": "text"
      },
      "source": [
        "<a href=\"https://colab.research.google.com/github/ashokmuruga/AIMLDL/blob/master/Age.ipynb\" target=\"_parent\"><img src=\"https://colab.research.google.com/assets/colab-badge.svg\" alt=\"Open In Colab\"/></a>"
      ]
    },
    {
      "cell_type": "code",
      "metadata": {
        "id": "uvlYMZATQRlE",
        "colab_type": "code",
        "colab": {
          "base_uri": "https://localhost:8080/",
          "height": 129
        },
        "outputId": "d5fc51df-91b3-4b2e-b147-937ab6846824"
      },
      "source": [
        "import cv2\n",
        "import numpy as np\n",
        "import pafy\n",
        "\n",
        "#url of the video to predict Age and gender\n",
        "url = 'https://www.youtube.com/watch?v=c07IsbSNqfI&feature=youtu.be'\n",
        "vPafy = pafy.new(url)\n",
        "play = vPafy.getbest(preftype=\"mp4\")\n",
        "\n",
        "cap = cv2.VideoCapture(play.url)\n",
        "\n",
        "cap.set(3, 480) #set width of the frame\n",
        "cap.set(4, 640) #set height of the frame\n",
        "\n",
        "MODEL_MEAN_VALUES = (78.4263377603, 87.7689143744, 114.895847746)\n",
        "\n",
        "age_list = ['(0, 2)', '(4, 6)', '(8, 12)', '(15, 20)', '(25, 32)', '(38, 43)', '(48, 53)', '(60, 100)']\n",
        "\n",
        "gender_list = ['Male', 'Female']\n",
        "\n",
        "def load_caffe_models():\n",
        "  age_net = cv2.dnn.readNetFromCaffe('deploy_age.prototxt', 'age_net.caffemodel')\n",
        "gender_net = cv2.dnn.readNetFromCaffe('deploy_gender.prototxt', 'gender_net.caffemodel')\n",
        "    return(age_net, gender_net)\n",
        "\n",
        "def video_detector(age_net, gender_net):\n",
        "  font = cv2.FONT_HERSHEY_SIMPLEX\n",
        "\n",
        "while True:\n",
        "\n",
        "  ret, image = cap.read()\n",
        "       \n",
        "  face_cascade = cv2.CascadeClassifier('haarcascade_frontalface_alt.xml')\n",
        " \n",
        "  gray = cv2.cvtColor(image, cv2.COLOR_BGR2GRAY)\n",
        "  faces = face_cascade.detectMultiScale(gray, 1.1, 5)\n",
        "\n",
        "if(len(faces)>0):\n",
        "   print(\"Found {} faces\".format(str(len(faces))))\n",
        "\n",
        "for (x, y, w, h )in faces:\n",
        "   cv2.rectangle(image, (x, y), (x+w, y+h), (255, 255, 0), 2)\n",
        "\n",
        "#Get Face \n",
        "   face_img = image[y:y+h, h:h+w].copy()\n",
        "   blob = cv2.dnn.blobFromImage(face_img, 1, (227, 227), MODEL_MEAN_VALUES, swapRB=False)\n",
        "\n",
        "#Predict Gender\n",
        "   gender_net.setInput(blob)\n",
        "   gender_preds = gender_net.forward()\n",
        "   gender = gender_list[gender_preds[0].argmax()]\n",
        "   print(\"Gender : \" + gender)\n",
        "\n",
        "#Predict Age\n",
        "   age_net.setInput(blob)\n",
        "   age_preds = age_net.forward()\n",
        "   age = age_list[age_preds[0].argmax()]\n",
        "   print(\"Age Range: \" + age)\n",
        "\n",
        "overlay_text = \"%s %s\" % (gender, age)\n",
        "cv2.putText(image, overlay_text, (x, y), font, 1, (255, 255, 255), 2, cv2.LINE_AA)\n",
        "\n",
        "cv2.imshow('frame', image)  \n",
        "#0xFF is a hexadecimal constant which is 11111111 in binary.\n",
        "if cv2.waitKey(1) & 0xFF == ord('q'): \n",
        "   break\n",
        "\n",
        "if __name__ == \"__main__\":\n",
        " age_net, gender_net = load_caffe_models()\n",
        "video_detector(age_net, gender_net)"
      ],
      "execution_count": 15,
      "outputs": [
        {
          "output_type": "error",
          "ename": "IndentationError",
          "evalue": "ignored",
          "traceback": [
            "\u001b[0;36m  File \u001b[0;32m\"<ipython-input-15-03853fc8ec13>\"\u001b[0;36m, line \u001b[0;32m24\u001b[0m\n\u001b[0;31m    return(age_net, gender_net)\u001b[0m\n\u001b[0m    ^\u001b[0m\n\u001b[0;31mIndentationError\u001b[0m\u001b[0;31m:\u001b[0m unexpected indent\n"
          ]
        }
      ]
    },
    {
      "cell_type": "code",
      "metadata": {
        "id": "m0XewuxrW_Af",
        "colab_type": "code",
        "colab": {
          "base_uri": "https://localhost:8080/",
          "height": 122
        },
        "outputId": "e838591e-7841-4167-9d1a-7ca5e71861b9"
      },
      "source": [
        "!pip install youtube_dl\n"
      ],
      "execution_count": 7,
      "outputs": [
        {
          "output_type": "stream",
          "text": [
            "Collecting youtube_dl\n",
            "\u001b[?25l  Downloading https://files.pythonhosted.org/packages/ac/4d/545cf2f14503763666bb201067d2157c0b45ef4eefdf423805eed11729ea/youtube_dl-2020.3.1-py2.py3-none-any.whl (1.8MB)\n",
            "\u001b[K     |████████████████████████████████| 1.8MB 4.5MB/s \n",
            "\u001b[?25hInstalling collected packages: youtube-dl\n",
            "Successfully installed youtube-dl-2020.3.1\n"
          ],
          "name": "stdout"
        }
      ]
    }
  ]
}