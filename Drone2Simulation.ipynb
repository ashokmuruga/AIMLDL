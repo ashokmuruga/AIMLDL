{
  "nbformat": 4,
  "nbformat_minor": 0,
  "metadata": {
    "colab": {
      "name": "Drone2Simulation.ipynb",
      "provenance": [],
      "authorship_tag": "ABX9TyNFzKntFwIKGpuih0K1Xbbv",
      "include_colab_link": true
    },
    "kernelspec": {
      "name": "python3",
      "display_name": "Python 3"
    },
    "accelerator": "GPU"
  },
  "cells": [
    {
      "cell_type": "markdown",
      "metadata": {
        "id": "view-in-github",
        "colab_type": "text"
      },
      "source": [
        "<a href=\"https://colab.research.google.com/github/ashokmuruga/AIMLDL/blob/master/Drone2Simulation.ipynb\" target=\"_parent\"><img src=\"https://colab.research.google.com/assets/colab-badge.svg\" alt=\"Open In Colab\"/></a>"
      ]
    },
    {
      "cell_type": "code",
      "metadata": {
        "id": "-4bFAuWMidU1",
        "colab_type": "code",
        "colab": {}
      },
      "source": [
        "!git clone https://github.com/abhijitmajumdar/Quadcopter_simulator.git"
      ],
      "execution_count": 0,
      "outputs": []
    }
  ]
}