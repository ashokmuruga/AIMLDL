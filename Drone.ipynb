{
  "nbformat": 4,
  "nbformat_minor": 0,
  "metadata": {
    "colab": {
      "name": "Drone.ipynb",
      "provenance": [],
      "authorship_tag": "ABX9TyNYiwQLKZYmA7wtTYiaCJz/",
      "include_colab_link": true
    },
    "kernelspec": {
      "name": "python3",
      "display_name": "Python 3"
    },
    "accelerator": "GPU"
  },
  "cells": [
    {
      "cell_type": "markdown",
      "metadata": {
        "id": "view-in-github",
        "colab_type": "text"
      },
      "source": [
        "<a href=\"https://colab.research.google.com/github/ashokmuruga/AIMLDL/blob/master/Drone.ipynb\" target=\"_parent\"><img src=\"https://colab.research.google.com/assets/colab-badge.svg\" alt=\"Open In Colab\"/></a>"
      ]
    },
    {
      "cell_type": "code",
      "metadata": {
        "id": "XQ8b39vYXLwH",
        "colab_type": "code",
        "colab": {
          "base_uri": "https://localhost:8080/",
          "height": 326
        },
        "outputId": "1f2591c4-d390-4620-e51a-e3bc621841e7"
      },
      "source": [
        "!pip install dronekit"
      ],
      "execution_count": 2,
      "outputs": [
        {
          "output_type": "stream",
          "text": [
            "Collecting dronekit\n",
            "\u001b[?25l  Downloading https://files.pythonhosted.org/packages/a6/4a/74ef556f76d38c149e4ca38ff3bf25be5723c63835f51eec42c7c5f1c466/dronekit-2.9.2-py3-none-any.whl (56kB)\n",
            "\r\u001b[K     |█████▊                          | 10kB 18.4MB/s eta 0:00:01\r\u001b[K     |███████████▌                    | 20kB 2.2MB/s eta 0:00:01\r\u001b[K     |█████████████████▎              | 30kB 2.9MB/s eta 0:00:01\r\u001b[K     |███████████████████████         | 40kB 2.0MB/s eta 0:00:01\r\u001b[K     |████████████████████████████▉   | 51kB 2.4MB/s eta 0:00:01\r\u001b[K     |████████████████████████████████| 61kB 2.2MB/s \n",
            "\u001b[?25hCollecting monotonic>=1.3\n",
            "  Downloading https://files.pythonhosted.org/packages/ac/aa/063eca6a416f397bd99552c534c6d11d57f58f2e94c14780f3bbf818c4cf/monotonic-1.5-py2.py3-none-any.whl\n",
            "Collecting pymavlink>=2.2.20\n",
            "\u001b[?25l  Downloading https://files.pythonhosted.org/packages/b4/b8/3accf8bf9edf55ac255df7901c1ecf7523dce668130a12f3fdc1ae705686/pymavlink-2.4.6.tar.gz (3.5MB)\n",
            "\u001b[K     |████████████████████████████████| 3.5MB 6.8MB/s \n",
            "\u001b[?25hRequirement already satisfied: future in /usr/local/lib/python3.6/dist-packages (from pymavlink>=2.2.20->dronekit) (0.16.0)\n",
            "Requirement already satisfied: lxml in /usr/local/lib/python3.6/dist-packages (from pymavlink>=2.2.20->dronekit) (4.2.6)\n",
            "Building wheels for collected packages: pymavlink\n",
            "  Building wheel for pymavlink (setup.py) ... \u001b[?25l\u001b[?25hdone\n",
            "  Created wheel for pymavlink: filename=pymavlink-2.4.6-cp36-cp36m-linux_x86_64.whl size=3611494 sha256=94afaed30dfe188299323702c320388a08685bc4d480dd4a5bf0fc3dde775b2a\n",
            "  Stored in directory: /root/.cache/pip/wheels/4e/ce/cb/9295acfe27f1b73a1e3cc124f286a9b37809f484b41159d9f5\n",
            "Successfully built pymavlink\n",
            "Installing collected packages: monotonic, pymavlink, dronekit\n",
            "Successfully installed dronekit-2.9.2 monotonic-1.5 pymavlink-2.4.6\n"
          ],
          "name": "stdout"
        }
      ]
    },
    {
      "cell_type": "code",
      "metadata": {
        "id": "COGvsIkMcIzp",
        "colab_type": "code",
        "colab": {
          "base_uri": "https://localhost:8080/",
          "height": 224
        },
        "outputId": "587db97a-78e1-4e34-b318-62ad32704068"
      },
      "source": [
        "!pip install dronekit-sitl"
      ],
      "execution_count": 3,
      "outputs": [
        {
          "output_type": "stream",
          "text": [
            "Collecting dronekit-sitl\n",
            "  Downloading https://files.pythonhosted.org/packages/1c/ef/99b1881187910099c22dc763ea8e61eff0947ced2d59105315acbc2f79cd/dronekit_sitl-3.3.0-py3-none-any.whl\n",
            "Requirement already satisfied: psutil>=3.0 in /usr/local/lib/python3.6/dist-packages (from dronekit-sitl) (5.4.8)\n",
            "Requirement already satisfied: six>=1.10 in /usr/local/lib/python3.6/dist-packages (from dronekit-sitl) (1.12.0)\n",
            "Requirement already satisfied: dronekit>=2.0.0b6 in /usr/local/lib/python3.6/dist-packages (from dronekit-sitl) (2.9.2)\n",
            "Requirement already satisfied: monotonic>=1.3 in /usr/local/lib/python3.6/dist-packages (from dronekit>=2.0.0b6->dronekit-sitl) (1.5)\n",
            "Requirement already satisfied: pymavlink>=2.2.20 in /usr/local/lib/python3.6/dist-packages (from dronekit>=2.0.0b6->dronekit-sitl) (2.4.6)\n",
            "Requirement already satisfied: lxml in /usr/local/lib/python3.6/dist-packages (from pymavlink>=2.2.20->dronekit>=2.0.0b6->dronekit-sitl) (4.2.6)\n",
            "Requirement already satisfied: future in /usr/local/lib/python3.6/dist-packages (from pymavlink>=2.2.20->dronekit>=2.0.0b6->dronekit-sitl) (0.16.0)\n",
            "Installing collected packages: dronekit-sitl\n",
            "Successfully installed dronekit-sitl-3.3.0\n"
          ],
          "name": "stdout"
        }
      ]
    },
    {
      "cell_type": "code",
      "metadata": {
        "id": "WRfWsmUNcY-e",
        "colab_type": "code",
        "colab": {
          "base_uri": "https://localhost:8080/",
          "height": 374
        },
        "outputId": "4a890da6-56ce-4cc5-ae26-febe7faa35b7"
      },
      "source": [
        "print (\"Start simulator (SITL)\")\n",
        "import dronekit_sitl\n",
        "sitl = dronekit_sitl.start_default()\n",
        "connection_string = sitl.connection_string()\n",
        "\n",
        "# Import DroneKit-Python\n",
        "from dronekit import connect, VehicleMode\n",
        "\n",
        "# Connect to the Vehicle.\n",
        "print(\"Connecting to vehicle on: %s\" % (connection_string,))\n",
        "vehicle = connect(connection_string, wait_ready=True)\n",
        "\n",
        "# Get some vehicle attributes (state)\n",
        "print (\"Get some vehicle attribute values:\")\n",
        "print (\" GPS: %s\" % vehicle.gps_0)\n",
        "print (\" Battery: %s\" % vehicle.battery)\n",
        "print (\" Last Heartbeat: %s\" % vehicle.last_heartbeat)\n",
        "print (\" Is Armable?: %s\" % vehicle.is_armable)\n",
        "print (\" System status: %s\" % vehicle.system_status.state)\n",
        "print (\" Mode: %s\" % vehicle.mode.name)    # settable\n",
        "\n",
        "# Close vehicle object before exiting script\n",
        "vehicle.close()\n",
        "\n",
        "# Shut down simulator\n",
        "sitl.stop()\n",
        "print(\"Completed\")"
      ],
      "execution_count": 4,
      "outputs": [
        {
          "output_type": "stream",
          "text": [
            "Start simulator (SITL)\n",
            "Starting copter simulator (SITL)\n",
            "Downloading SITL from http://dronekit-assets.s3.amazonaws.com/sitl/copter/sitl-linux-copter-3.3.tar.gz\n",
            "Download Complete.\n",
            "Payload Extracted.\n",
            "Ready to boot.\n",
            "Connecting to vehicle on: tcp:127.0.0.1:5760\n"
          ],
          "name": "stdout"
        },
        {
          "output_type": "stream",
          "text": [
            "CRITICAL:autopilot:APM:Copter V3.3 (d6053245)\n",
            "CRITICAL:autopilot:Frame: QUAD\n",
            "CRITICAL:autopilot:Calibrating barometer\n",
            "CRITICAL:autopilot:Initialising APM...\n",
            "CRITICAL:autopilot:barometer calibration complete\n",
            "CRITICAL:autopilot:GROUND START\n"
          ],
          "name": "stderr"
        },
        {
          "output_type": "stream",
          "text": [
            "Get some vehicle attribute values:\n",
            " GPS: GPSInfo:fix=3,num_sat=10\n",
            " Battery: Battery:voltage=12.587,current=0.0,level=100\n",
            " Last Heartbeat: 0.7344879400002355\n",
            " Is Armable?: False\n",
            " System status: STANDBY\n",
            " Mode: STABILIZE\n",
            "Completed\n"
          ],
          "name": "stdout"
        }
      ]
    },
    {
      "cell_type": "code",
      "metadata": {
        "id": "oSeqEptAe9Ez",
        "colab_type": "code",
        "colab": {
          "base_uri": "https://localhost:8080/",
          "height": 649
        },
        "outputId": "7ca9bdd5-aae1-46e7-864a-cec612370b96"
      },
      "source": [
        "!pip install dronekit-sitl -UI"
      ],
      "execution_count": 5,
      "outputs": [
        {
          "output_type": "stream",
          "text": [
            "Collecting dronekit-sitl\n",
            "  Using cached https://files.pythonhosted.org/packages/1c/ef/99b1881187910099c22dc763ea8e61eff0947ced2d59105315acbc2f79cd/dronekit_sitl-3.3.0-py3-none-any.whl\n",
            "Collecting psutil>=3.0\n",
            "\u001b[?25l  Downloading https://files.pythonhosted.org/packages/c4/b8/3512f0e93e0db23a71d82485ba256071ebef99b227351f0f5540f744af41/psutil-5.7.0.tar.gz (449kB)\n",
            "\r\u001b[K     |▊                               | 10kB 24.2MB/s eta 0:00:01\r\u001b[K     |█▌                              | 20kB 5.9MB/s eta 0:00:01\r\u001b[K     |██▏                             | 30kB 6.9MB/s eta 0:00:01\r\u001b[K     |███                             | 40kB 5.4MB/s eta 0:00:01\r\u001b[K     |███▋                            | 51kB 5.9MB/s eta 0:00:01\r\u001b[K     |████▍                           | 61kB 6.9MB/s eta 0:00:01\r\u001b[K     |█████                           | 71kB 7.3MB/s eta 0:00:01\r\u001b[K     |█████▉                          | 81kB 7.7MB/s eta 0:00:01\r\u001b[K     |██████▋                         | 92kB 8.6MB/s eta 0:00:01\r\u001b[K     |███████▎                        | 102kB 8.0MB/s eta 0:00:01\r\u001b[K     |████████                        | 112kB 8.0MB/s eta 0:00:01\r\u001b[K     |████████▊                       | 122kB 8.0MB/s eta 0:00:01\r\u001b[K     |█████████▌                      | 133kB 8.0MB/s eta 0:00:01\r\u001b[K     |██████████▏                     | 143kB 8.0MB/s eta 0:00:01\r\u001b[K     |███████████                     | 153kB 8.0MB/s eta 0:00:01\r\u001b[K     |███████████▋                    | 163kB 8.0MB/s eta 0:00:01\r\u001b[K     |████████████▍                   | 174kB 8.0MB/s eta 0:00:01\r\u001b[K     |█████████████▏                  | 184kB 8.0MB/s eta 0:00:01\r\u001b[K     |█████████████▉                  | 194kB 8.0MB/s eta 0:00:01\r\u001b[K     |██████████████▋                 | 204kB 8.0MB/s eta 0:00:01\r\u001b[K     |███████████████▎                | 215kB 8.0MB/s eta 0:00:01\r\u001b[K     |████████████████                | 225kB 8.0MB/s eta 0:00:01\r\u001b[K     |████████████████▊               | 235kB 8.0MB/s eta 0:00:01\r\u001b[K     |█████████████████▌              | 245kB 8.0MB/s eta 0:00:01\r\u001b[K     |██████████████████▏             | 256kB 8.0MB/s eta 0:00:01\r\u001b[K     |███████████████████             | 266kB 8.0MB/s eta 0:00:01\r\u001b[K     |███████████████████▊            | 276kB 8.0MB/s eta 0:00:01\r\u001b[K     |████████████████████▍           | 286kB 8.0MB/s eta 0:00:01\r\u001b[K     |█████████████████████▏          | 296kB 8.0MB/s eta 0:00:01\r\u001b[K     |█████████████████████▉          | 307kB 8.0MB/s eta 0:00:01\r\u001b[K     |██████████████████████▋         | 317kB 8.0MB/s eta 0:00:01\r\u001b[K     |███████████████████████▎        | 327kB 8.0MB/s eta 0:00:01\r\u001b[K     |████████████████████████        | 337kB 8.0MB/s eta 0:00:01\r\u001b[K     |████████████████████████▉       | 348kB 8.0MB/s eta 0:00:01\r\u001b[K     |█████████████████████████▌      | 358kB 8.0MB/s eta 0:00:01\r\u001b[K     |██████████████████████████▎     | 368kB 8.0MB/s eta 0:00:01\r\u001b[K     |███████████████████████████     | 378kB 8.0MB/s eta 0:00:01\r\u001b[K     |███████████████████████████▊    | 389kB 8.0MB/s eta 0:00:01\r\u001b[K     |████████████████████████████▍   | 399kB 8.0MB/s eta 0:00:01\r\u001b[K     |█████████████████████████████▏  | 409kB 8.0MB/s eta 0:00:01\r\u001b[K     |█████████████████████████████▉  | 419kB 8.0MB/s eta 0:00:01\r\u001b[K     |██████████████████████████████▋ | 430kB 8.0MB/s eta 0:00:01\r\u001b[K     |███████████████████████████████▍| 440kB 8.0MB/s eta 0:00:01\r\u001b[K     |████████████████████████████████| 450kB 8.0MB/s \n",
            "\u001b[?25hCollecting six>=1.10\n",
            "  Downloading https://files.pythonhosted.org/packages/65/eb/1f97cb97bfc2390a276969c6fae16075da282f5058082d4cb10c6c5c1dba/six-1.14.0-py2.py3-none-any.whl\n",
            "Collecting dronekit>=2.0.0b6\n",
            "  Using cached https://files.pythonhosted.org/packages/a6/4a/74ef556f76d38c149e4ca38ff3bf25be5723c63835f51eec42c7c5f1c466/dronekit-2.9.2-py3-none-any.whl\n",
            "Collecting monotonic>=1.3\n",
            "  Using cached https://files.pythonhosted.org/packages/ac/aa/063eca6a416f397bd99552c534c6d11d57f58f2e94c14780f3bbf818c4cf/monotonic-1.5-py2.py3-none-any.whl\n",
            "Processing /root/.cache/pip/wheels/4e/ce/cb/9295acfe27f1b73a1e3cc124f286a9b37809f484b41159d9f5/pymavlink-2.4.6-cp36-cp36m-linux_x86_64.whl\n",
            "Collecting future\n",
            "\u001b[?25l  Downloading https://files.pythonhosted.org/packages/45/0b/38b06fd9b92dc2b68d58b75f900e97884c45bedd2ff83203d933cf5851c9/future-0.18.2.tar.gz (829kB)\n",
            "\u001b[K     |████████████████████████████████| 829kB 18.7MB/s \n",
            "\u001b[?25hCollecting lxml\n",
            "\u001b[?25l  Downloading https://files.pythonhosted.org/packages/dd/ba/a0e6866057fc0bbd17192925c1d63a3b85cf522965de9bc02364d08e5b84/lxml-4.5.0-cp36-cp36m-manylinux1_x86_64.whl (5.8MB)\n",
            "\u001b[K     |████████████████████████████████| 5.8MB 43.9MB/s \n",
            "\u001b[?25hBuilding wheels for collected packages: psutil, future\n",
            "  Building wheel for psutil (setup.py) ... \u001b[?25l\u001b[?25hdone\n",
            "  Created wheel for psutil: filename=psutil-5.7.0-cp36-cp36m-linux_x86_64.whl size=272671 sha256=668e3ccca49a689c394f76e7676fb3c128a6e850eabd1b34e62eb84379779002\n",
            "  Stored in directory: /root/.cache/pip/wheels/d7/69/b4/3200b95828d1f0ddb3cb5699083717f4fdbd9b4223d0644c57\n",
            "  Building wheel for future (setup.py) ... \u001b[?25l\u001b[?25hdone\n",
            "  Created wheel for future: filename=future-0.18.2-cp36-none-any.whl size=491057 sha256=5e5c55cdafac3172e0155edf62315d96d545dcb10707268014453ae921c0e437\n",
            "  Stored in directory: /root/.cache/pip/wheels/8b/99/a0/81daf51dcd359a9377b110a8a886b3895921802d2fc1b2397e\n",
            "Successfully built psutil future\n",
            "\u001b[31mERROR: google-colab 1.0.0 has requirement six~=1.12.0, but you'll have six 1.14.0 which is incompatible.\u001b[0m\n",
            "\u001b[31mERROR: datascience 0.10.6 has requirement folium==0.2.1, but you'll have folium 0.8.3 which is incompatible.\u001b[0m\n",
            "\u001b[31mERROR: albumentations 0.1.12 has requirement imgaug<0.2.7,>=0.2.5, but you'll have imgaug 0.2.9 which is incompatible.\u001b[0m\n",
            "Installing collected packages: psutil, six, monotonic, future, lxml, pymavlink, dronekit, dronekit-sitl\n",
            "Successfully installed dronekit-2.9.2 dronekit-sitl-3.3.0 future-0.18.2 lxml-4.5.0 monotonic-1.5 psutil-5.7.0 pymavlink-2.4.6 six-1.14.0\n"
          ],
          "name": "stdout"
        },
        {
          "output_type": "display_data",
          "data": {
            "application/vnd.colab-display-data+json": {
              "pip_warning": {
                "packages": [
                  "dronekit",
                  "dronekit_sitl",
                  "future",
                  "libfuturize",
                  "mavnative",
                  "monotonic",
                  "past",
                  "psutil",
                  "pymavlink",
                  "six"
                ]
              }
            }
          },
          "metadata": {
            "tags": []
          }
        }
      ]
    },
    {
      "cell_type": "code",
      "metadata": {
        "id": "PD_8rfmmfH9G",
        "colab_type": "code",
        "colab": {}
      },
      "source": [
        "!dronekit-sitl copter"
      ],
      "execution_count": 0,
      "outputs": []
    },
    {
      "cell_type": "code",
      "metadata": {
        "id": "lLhivBYige46",
        "colab_type": "code",
        "colab": {
          "base_uri": "https://localhost:8080/",
          "height": 170
        },
        "outputId": "b82cfebb-49b8-4bee-d2b9-ae59a79fc3c4"
      },
      "source": [
        "!dronekit-sitl -h"
      ],
      "execution_count": 3,
      "outputs": [
        {
          "output_type": "stream",
          "text": [
            "Please specify one of:\n",
            "  dronekit-sitl --list\n",
            "  dronekit-sitl --reset\n",
            "  dronekit-sitl download <(copter|plane|rover|solo)(-version)>\n",
            "  dronekit-sitl <copter(-version)> [args...]\n",
            "  dronekit-sitl <plane(-version)> [args...]\n",
            "  dronekit-sitl <rover(-version)> [args...]\n",
            "  dronekit-sitl <solo(-version)> [args...]\n",
            "  dronekit-sitl ./path [args...]\n"
          ],
          "name": "stdout"
        }
      ]
    },
    {
      "cell_type": "code",
      "metadata": {
        "id": "Xf-ETW7ggk8C",
        "colab_type": "code",
        "colab": {
          "base_uri": "https://localhost:8080/",
          "height": 119
        },
        "outputId": "891e5a8d-2c2e-4d83-c6c7-9e5b4b4cf7ee"
      },
      "source": [
        "!dronekit-sitl --list"
      ],
      "execution_count": 4,
      "outputs": [
        {
          "output_type": "stream",
          "text": [
            "copter-3.3\n",
            "solo-1.2.0\n",
            "solo-2.0.18\n",
            "solo-2.0.20\n",
            "plane-3.3.0\n",
            "rover-2.50\n"
          ],
          "name": "stdout"
        }
      ]
    },
    {
      "cell_type": "code",
      "metadata": {
        "id": "AV7qEY1fgunh",
        "colab_type": "code",
        "colab": {
          "base_uri": "https://localhost:8080/",
          "height": 255
        },
        "outputId": "8290802f-997b-4fde-e4df-41465ed3dca9"
      },
      "source": [
        "!dronekit-sitl copter -h    "
      ],
      "execution_count": 6,
      "outputs": [
        {
          "output_type": "stream",
          "text": [
            "os: linux, apm: copter, release: stable\n",
            "SITL already Downloaded and Extracted.\n",
            "Ready to boot.\n",
            "Execute: /root/.dronekit/sitl/copter-3.3/apm -h --home=-35.363261,149.165230,584,353 --model=quad -I 0\n",
            "SITL-0> Options:\n",
            "\t--home HOME        set home location (lat,lng,alt,yaw)\n",
            "\t--model MODEL      set simulation model\n",
            "\t--wipe             wipe eeprom and dataflash\n",
            "\t--rate RATE        set SITL framerate\n",
            "\t--console          use console instead of TCP ports\n",
            "\t--instance N       set instance of SITL (adds 10*instance to all port numbers)\n",
            "\t--speedup SPEEDUP  set simulation speedup\n",
            "\t--gimbal           enable simulated MAVLink gimbal\n",
            "\t--autotest-dir DIR set directory for additional files\n"
          ],
          "name": "stdout"
        }
      ]
    },
    {
      "cell_type": "code",
      "metadata": {
        "id": "IusjULr4hM6A",
        "colab_type": "code",
        "colab": {
          "base_uri": "https://localhost:8080/",
          "height": 309
        },
        "outputId": "884728b4-90a2-465a-8b71-16f3d6118c14"
      },
      "source": [
        "!pip install mavproxy"
      ],
      "execution_count": 11,
      "outputs": [
        {
          "output_type": "stream",
          "text": [
            "Collecting mavproxy\n",
            "\u001b[?25l  Downloading https://files.pythonhosted.org/packages/70/7d/2a8926e4b0bfcabbc229ced5f4abb9dd2e4a2db13add1f3df84be86cf937/MAVProxy-1.8.18.tar.gz (6.7MB)\n",
            "\u001b[K     |████████████████████████████████| 6.7MB 9.3MB/s \n",
            "\u001b[?25hRequirement already satisfied: pymavlink>=2.3.3 in /usr/local/lib/python3.6/dist-packages (from mavproxy) (2.4.6)\n",
            "Collecting pyserial>=3.0\n",
            "\u001b[?25l  Downloading https://files.pythonhosted.org/packages/0d/e4/2a744dd9e3be04a0c0907414e2a01a7c88bb3915cbe3c8cc06e209f59c30/pyserial-3.4-py2.py3-none-any.whl (193kB)\n",
            "\u001b[K     |████████████████████████████████| 194kB 44.7MB/s \n",
            "\u001b[?25hRequirement already satisfied: future in /usr/local/lib/python3.6/dist-packages (from pymavlink>=2.3.3->mavproxy) (0.18.2)\n",
            "Requirement already satisfied: lxml in /usr/local/lib/python3.6/dist-packages (from pymavlink>=2.3.3->mavproxy) (4.5.0)\n",
            "Building wheels for collected packages: mavproxy\n",
            "  Building wheel for mavproxy (setup.py) ... \u001b[?25l\u001b[?25hdone\n",
            "  Created wheel for mavproxy: filename=MAVProxy-1.8.18-cp36-none-any.whl size=6986149 sha256=87108b603b93c28058207fdce8b10600a876d8ab6bced43286f333ac6f7a9b92\n",
            "  Stored in directory: /root/.cache/pip/wheels/a0/8d/b2/38ca52ec53a6b9be8dd8804d721a924c58d9f4afe634d4ca4d\n",
            "Successfully built mavproxy\n",
            "Installing collected packages: pyserial, mavproxy\n",
            "Successfully installed mavproxy-1.8.18 pyserial-3.4\n"
          ],
          "name": "stdout"
        }
      ]
    },
    {
      "cell_type": "code",
      "metadata": {
        "id": "Uc8KMbazjxJD",
        "colab_type": "code",
        "colab": {
          "base_uri": "https://localhost:8080/",
          "height": 119
        },
        "outputId": "01f4f555-a0b6-48e6-bf8a-9a32d107c8e0"
      },
      "source": [
        "!mavproxy.py --master tcp:127.0.0.1:5760 --sitl 127.0.0.1:5501 --out 127.0.0.1:14550 --out 127.0.0.1:14551"
      ],
      "execution_count": 13,
      "outputs": [
        {
          "output_type": "stream",
          "text": [
            "Connect tcp:127.0.0.1:5760 source_system=255\n",
            "[Errno 111] Connection refused sleeping\n",
            "[Errno 111] Connection refused sleeping\n",
            "[Errno 111] Connection refused sleeping\n",
            "[Errno 111] Connection refused sleeping\n",
            "Failed to connect to tcp:127.0.0.1:5760 : [Errno 111] Connection refused\n"
          ],
          "name": "stdout"
        }
      ]
    },
    {
      "cell_type": "code",
      "metadata": {
        "id": "bsTs-WZjkhoF",
        "colab_type": "code",
        "colab": {
          "base_uri": "https://localhost:8080/",
          "height": 374
        },
        "outputId": "9b591732-3fcb-45e4-8a05-33b4096cba1f"
      },
      "source": [
        "from dronekit import connect\n",
        "\n",
        "# Connect to the Vehicle (in this case a UDP endpoint)\n",
        "vehicle = connect('tcp:127.0.0.1:14550', wait_ready=True)"
      ],
      "execution_count": 16,
      "outputs": [
        {
          "output_type": "stream",
          "text": [
            "[Errno 111] Connection refused sleeping\n",
            "[Errno 111] Connection refused sleeping\n"
          ],
          "name": "stdout"
        },
        {
          "output_type": "error",
          "ename": "ConnectionRefusedError",
          "evalue": "ignored",
          "traceback": [
            "\u001b[0;31m---------------------------------------------------------------------------\u001b[0m",
            "\u001b[0;31mConnectionRefusedError\u001b[0m                    Traceback (most recent call last)",
            "\u001b[0;32m<ipython-input-16-56e789761900>\u001b[0m in \u001b[0;36m<module>\u001b[0;34m()\u001b[0m\n\u001b[1;32m      2\u001b[0m \u001b[0;34m\u001b[0m\u001b[0m\n\u001b[1;32m      3\u001b[0m \u001b[0;31m# Connect to the Vehicle (in this case a UDP endpoint)\u001b[0m\u001b[0;34m\u001b[0m\u001b[0;34m\u001b[0m\u001b[0;34m\u001b[0m\u001b[0m\n\u001b[0;32m----> 4\u001b[0;31m \u001b[0mvehicle\u001b[0m \u001b[0;34m=\u001b[0m \u001b[0mconnect\u001b[0m\u001b[0;34m(\u001b[0m\u001b[0;34m'tcp:127.0.0.1:14550'\u001b[0m\u001b[0;34m,\u001b[0m \u001b[0mwait_ready\u001b[0m\u001b[0;34m=\u001b[0m\u001b[0;32mTrue\u001b[0m\u001b[0;34m)\u001b[0m\u001b[0;34m\u001b[0m\u001b[0;34m\u001b[0m\u001b[0m\n\u001b[0m",
            "\u001b[0;32m/usr/local/lib/python3.6/dist-packages/dronekit/__init__.py\u001b[0m in \u001b[0;36mconnect\u001b[0;34m(ip, _initialize, wait_ready, timeout, still_waiting_callback, still_waiting_interval, status_printer, vehicle_class, rate, baud, heartbeat_timeout, source_system, source_component, use_native)\u001b[0m\n\u001b[1;32m   3157\u001b[0m         \u001b[0mvehicle_class\u001b[0m \u001b[0;34m=\u001b[0m \u001b[0mVehicle\u001b[0m\u001b[0;34m\u001b[0m\u001b[0;34m\u001b[0m\u001b[0m\n\u001b[1;32m   3158\u001b[0m \u001b[0;34m\u001b[0m\u001b[0m\n\u001b[0;32m-> 3159\u001b[0;31m     \u001b[0mhandler\u001b[0m \u001b[0;34m=\u001b[0m \u001b[0mMAVConnection\u001b[0m\u001b[0;34m(\u001b[0m\u001b[0mip\u001b[0m\u001b[0;34m,\u001b[0m \u001b[0mbaud\u001b[0m\u001b[0;34m=\u001b[0m\u001b[0mbaud\u001b[0m\u001b[0;34m,\u001b[0m \u001b[0msource_system\u001b[0m\u001b[0;34m=\u001b[0m\u001b[0msource_system\u001b[0m\u001b[0;34m,\u001b[0m \u001b[0msource_component\u001b[0m\u001b[0;34m=\u001b[0m\u001b[0msource_component\u001b[0m\u001b[0;34m,\u001b[0m \u001b[0muse_native\u001b[0m\u001b[0;34m=\u001b[0m\u001b[0muse_native\u001b[0m\u001b[0;34m)\u001b[0m\u001b[0;34m\u001b[0m\u001b[0;34m\u001b[0m\u001b[0m\n\u001b[0m\u001b[1;32m   3160\u001b[0m     \u001b[0mvehicle\u001b[0m \u001b[0;34m=\u001b[0m \u001b[0mvehicle_class\u001b[0m\u001b[0;34m(\u001b[0m\u001b[0mhandler\u001b[0m\u001b[0;34m)\u001b[0m\u001b[0;34m\u001b[0m\u001b[0;34m\u001b[0m\u001b[0m\n\u001b[1;32m   3161\u001b[0m \u001b[0;34m\u001b[0m\u001b[0m\n",
            "\u001b[0;32m/usr/local/lib/python3.6/dist-packages/dronekit/mavlink.py\u001b[0m in \u001b[0;36m__init__\u001b[0;34m(self, ip, baud, target_system, source_system, source_component, use_native)\u001b[0m\n\u001b[1;32m    128\u001b[0m             \u001b[0mself\u001b[0m\u001b[0;34m.\u001b[0m\u001b[0mmaster\u001b[0m \u001b[0;34m=\u001b[0m \u001b[0mmavudpin_multi\u001b[0m\u001b[0;34m(\u001b[0m\u001b[0mip\u001b[0m\u001b[0;34m[\u001b[0m\u001b[0;36m6\u001b[0m\u001b[0;34m:\u001b[0m\u001b[0;34m]\u001b[0m\u001b[0;34m,\u001b[0m \u001b[0minput\u001b[0m\u001b[0;34m=\u001b[0m\u001b[0;32mTrue\u001b[0m\u001b[0;34m,\u001b[0m \u001b[0mbaud\u001b[0m\u001b[0;34m=\u001b[0m\u001b[0mbaud\u001b[0m\u001b[0;34m,\u001b[0m \u001b[0msource_system\u001b[0m\u001b[0;34m=\u001b[0m\u001b[0msource_system\u001b[0m\u001b[0;34m,\u001b[0m \u001b[0msource_component\u001b[0m\u001b[0;34m=\u001b[0m\u001b[0msource_component\u001b[0m\u001b[0;34m)\u001b[0m\u001b[0;34m\u001b[0m\u001b[0;34m\u001b[0m\u001b[0m\n\u001b[1;32m    129\u001b[0m         \u001b[0;32melse\u001b[0m\u001b[0;34m:\u001b[0m\u001b[0;34m\u001b[0m\u001b[0;34m\u001b[0m\u001b[0m\n\u001b[0;32m--> 130\u001b[0;31m             \u001b[0mself\u001b[0m\u001b[0;34m.\u001b[0m\u001b[0mmaster\u001b[0m \u001b[0;34m=\u001b[0m \u001b[0mmavutil\u001b[0m\u001b[0;34m.\u001b[0m\u001b[0mmavlink_connection\u001b[0m\u001b[0;34m(\u001b[0m\u001b[0mip\u001b[0m\u001b[0;34m,\u001b[0m \u001b[0mbaud\u001b[0m\u001b[0;34m=\u001b[0m\u001b[0mbaud\u001b[0m\u001b[0;34m,\u001b[0m \u001b[0msource_system\u001b[0m\u001b[0;34m=\u001b[0m\u001b[0msource_system\u001b[0m\u001b[0;34m,\u001b[0m \u001b[0msource_component\u001b[0m\u001b[0;34m=\u001b[0m\u001b[0msource_component\u001b[0m\u001b[0;34m)\u001b[0m\u001b[0;34m\u001b[0m\u001b[0;34m\u001b[0m\u001b[0m\n\u001b[0m\u001b[1;32m    131\u001b[0m \u001b[0;34m\u001b[0m\u001b[0m\n\u001b[1;32m    132\u001b[0m         \u001b[0;31m# TODO get rid of \"master\" object as exposed,\u001b[0m\u001b[0;34m\u001b[0m\u001b[0;34m\u001b[0m\u001b[0;34m\u001b[0m\u001b[0m\n",
            "\u001b[0;32m/usr/local/lib/python3.6/dist-packages/pymavlink/mavutil.py\u001b[0m in \u001b[0;36mmavlink_connection\u001b[0;34m(device, baud, source_system, source_component, planner_format, write, append, robust_parsing, notimestamps, input, dialect, autoreconnect, zero_time_base, retries, use_native, force_connected, progress_callback)\u001b[0m\n\u001b[1;32m   1636\u001b[0m                       \u001b[0msource_component\u001b[0m\u001b[0;34m=\u001b[0m\u001b[0msource_component\u001b[0m\u001b[0;34m,\u001b[0m\u001b[0;34m\u001b[0m\u001b[0;34m\u001b[0m\u001b[0m\n\u001b[1;32m   1637\u001b[0m                       \u001b[0mretries\u001b[0m\u001b[0;34m=\u001b[0m\u001b[0mretries\u001b[0m\u001b[0;34m,\u001b[0m\u001b[0;34m\u001b[0m\u001b[0;34m\u001b[0m\u001b[0m\n\u001b[0;32m-> 1638\u001b[0;31m                       use_native=use_native)\n\u001b[0m\u001b[1;32m   1639\u001b[0m     \u001b[0;32mif\u001b[0m \u001b[0mdevice\u001b[0m\u001b[0;34m.\u001b[0m\u001b[0mstartswith\u001b[0m\u001b[0;34m(\u001b[0m\u001b[0;34m'tcpin:'\u001b[0m\u001b[0;34m)\u001b[0m\u001b[0;34m:\u001b[0m\u001b[0;34m\u001b[0m\u001b[0;34m\u001b[0m\u001b[0m\n\u001b[1;32m   1640\u001b[0m         \u001b[0;32mreturn\u001b[0m \u001b[0mmavtcpin\u001b[0m\u001b[0;34m(\u001b[0m\u001b[0mdevice\u001b[0m\u001b[0;34m[\u001b[0m\u001b[0;36m6\u001b[0m\u001b[0;34m:\u001b[0m\u001b[0;34m]\u001b[0m\u001b[0;34m,\u001b[0m \u001b[0msource_system\u001b[0m\u001b[0;34m=\u001b[0m\u001b[0msource_system\u001b[0m\u001b[0;34m,\u001b[0m \u001b[0msource_component\u001b[0m\u001b[0;34m=\u001b[0m\u001b[0msource_component\u001b[0m\u001b[0;34m,\u001b[0m \u001b[0mretries\u001b[0m\u001b[0;34m=\u001b[0m\u001b[0mretries\u001b[0m\u001b[0;34m,\u001b[0m \u001b[0muse_native\u001b[0m\u001b[0;34m=\u001b[0m\u001b[0muse_native\u001b[0m\u001b[0;34m)\u001b[0m\u001b[0;34m\u001b[0m\u001b[0;34m\u001b[0m\u001b[0m\n",
            "\u001b[0;32m/usr/local/lib/python3.6/dist-packages/pymavlink/mavutil.py\u001b[0m in \u001b[0;36m__init__\u001b[0;34m(self, device, autoreconnect, source_system, source_component, retries, use_native)\u001b[0m\n\u001b[1;32m   1167\u001b[0m \u001b[0;34m\u001b[0m\u001b[0m\n\u001b[1;32m   1168\u001b[0m         \u001b[0mself\u001b[0m\u001b[0;34m.\u001b[0m\u001b[0mretries\u001b[0m \u001b[0;34m=\u001b[0m \u001b[0mretries\u001b[0m\u001b[0;34m\u001b[0m\u001b[0;34m\u001b[0m\u001b[0m\n\u001b[0;32m-> 1169\u001b[0;31m         \u001b[0mself\u001b[0m\u001b[0;34m.\u001b[0m\u001b[0mdo_connect\u001b[0m\u001b[0;34m(\u001b[0m\u001b[0;34m)\u001b[0m\u001b[0;34m\u001b[0m\u001b[0;34m\u001b[0m\u001b[0m\n\u001b[0m\u001b[1;32m   1170\u001b[0m \u001b[0;34m\u001b[0m\u001b[0m\n\u001b[1;32m   1171\u001b[0m         \u001b[0mmavfile\u001b[0m\u001b[0;34m.\u001b[0m\u001b[0m__init__\u001b[0m\u001b[0;34m(\u001b[0m\u001b[0mself\u001b[0m\u001b[0;34m,\u001b[0m \u001b[0mself\u001b[0m\u001b[0;34m.\u001b[0m\u001b[0mport\u001b[0m\u001b[0;34m.\u001b[0m\u001b[0mfileno\u001b[0m\u001b[0;34m(\u001b[0m\u001b[0;34m)\u001b[0m\u001b[0;34m,\u001b[0m \u001b[0;34m\"tcp:\"\u001b[0m \u001b[0;34m+\u001b[0m \u001b[0mdevice\u001b[0m\u001b[0;34m,\u001b[0m \u001b[0msource_system\u001b[0m\u001b[0;34m=\u001b[0m\u001b[0msource_system\u001b[0m\u001b[0;34m,\u001b[0m \u001b[0msource_component\u001b[0m\u001b[0;34m=\u001b[0m\u001b[0msource_component\u001b[0m\u001b[0;34m,\u001b[0m \u001b[0muse_native\u001b[0m\u001b[0;34m=\u001b[0m\u001b[0muse_native\u001b[0m\u001b[0;34m)\u001b[0m\u001b[0;34m\u001b[0m\u001b[0;34m\u001b[0m\u001b[0m\n",
            "\u001b[0;32m/usr/local/lib/python3.6/dist-packages/pymavlink/mavutil.py\u001b[0m in \u001b[0;36mdo_connect\u001b[0;34m(self)\u001b[0m\n\u001b[1;32m   1187\u001b[0m                         \u001b[0mself\u001b[0m\u001b[0;34m.\u001b[0m\u001b[0mport\u001b[0m\u001b[0;34m.\u001b[0m\u001b[0mclose\u001b[0m\u001b[0;34m(\u001b[0m\u001b[0;34m)\u001b[0m\u001b[0;34m\u001b[0m\u001b[0;34m\u001b[0m\u001b[0m\n\u001b[1;32m   1188\u001b[0m                         \u001b[0mself\u001b[0m\u001b[0;34m.\u001b[0m\u001b[0mport\u001b[0m \u001b[0;34m=\u001b[0m \u001b[0;32mNone\u001b[0m\u001b[0;34m\u001b[0m\u001b[0;34m\u001b[0m\u001b[0m\n\u001b[0;32m-> 1189\u001b[0;31m                     \u001b[0;32mraise\u001b[0m \u001b[0me\u001b[0m\u001b[0;34m\u001b[0m\u001b[0;34m\u001b[0m\u001b[0m\n\u001b[0m\u001b[1;32m   1190\u001b[0m                 \u001b[0mprint\u001b[0m\u001b[0;34m(\u001b[0m\u001b[0me\u001b[0m\u001b[0;34m,\u001b[0m \u001b[0;34m\"sleeping\"\u001b[0m\u001b[0;34m)\u001b[0m\u001b[0;34m\u001b[0m\u001b[0;34m\u001b[0m\u001b[0m\n\u001b[1;32m   1191\u001b[0m                 \u001b[0mtime\u001b[0m\u001b[0;34m.\u001b[0m\u001b[0msleep\u001b[0m\u001b[0;34m(\u001b[0m\u001b[0;36m1\u001b[0m\u001b[0;34m)\u001b[0m\u001b[0;34m\u001b[0m\u001b[0;34m\u001b[0m\u001b[0m\n",
            "\u001b[0;32m/usr/local/lib/python3.6/dist-packages/pymavlink/mavutil.py\u001b[0m in \u001b[0;36mdo_connect\u001b[0;34m(self)\u001b[0m\n\u001b[1;32m   1180\u001b[0m             \u001b[0mretries\u001b[0m \u001b[0;34m-=\u001b[0m \u001b[0;36m1\u001b[0m\u001b[0;34m\u001b[0m\u001b[0;34m\u001b[0m\u001b[0m\n\u001b[1;32m   1181\u001b[0m             \u001b[0;32mtry\u001b[0m\u001b[0;34m:\u001b[0m\u001b[0;34m\u001b[0m\u001b[0;34m\u001b[0m\u001b[0m\n\u001b[0;32m-> 1182\u001b[0;31m                 \u001b[0mself\u001b[0m\u001b[0;34m.\u001b[0m\u001b[0mport\u001b[0m\u001b[0;34m.\u001b[0m\u001b[0mconnect\u001b[0m\u001b[0;34m(\u001b[0m\u001b[0mself\u001b[0m\u001b[0;34m.\u001b[0m\u001b[0mdestination_addr\u001b[0m\u001b[0;34m)\u001b[0m\u001b[0;34m\u001b[0m\u001b[0;34m\u001b[0m\u001b[0m\n\u001b[0m\u001b[1;32m   1183\u001b[0m                 \u001b[0;32mbreak\u001b[0m\u001b[0;34m\u001b[0m\u001b[0;34m\u001b[0m\u001b[0m\n\u001b[1;32m   1184\u001b[0m             \u001b[0;32mexcept\u001b[0m \u001b[0mException\u001b[0m \u001b[0;32mas\u001b[0m \u001b[0me\u001b[0m\u001b[0;34m:\u001b[0m\u001b[0;34m\u001b[0m\u001b[0;34m\u001b[0m\u001b[0m\n",
            "\u001b[0;31mConnectionRefusedError\u001b[0m: [Errno 111] Connection refused"
          ]
        }
      ]
    },
    {
      "cell_type": "code",
      "metadata": {
        "id": "oHohPo1XmRzD",
        "colab_type": "code",
        "colab": {
          "base_uri": "https://localhost:8080/",
          "height": 306
        },
        "outputId": "a014b5ee-520c-465e-b22d-c562492d18f5"
      },
      "source": [
        "!mavproxy.py --baud=57600 --aircraft=\"Quaddy\" --speech --console --map --quadcopter"
      ],
      "execution_count": 17,
      "outputs": [
        {
          "output_type": "error",
          "ename": "MessageError",
          "evalue": "ignored",
          "traceback": [
            "\u001b[0;31m---------------------------------------------------------------------------\u001b[0m",
            "\u001b[0;31mMessageError\u001b[0m                              Traceback (most recent call last)",
            "\u001b[0;32m<ipython-input-17-55bdbe3bb100>\u001b[0m in \u001b[0;36m<module>\u001b[0;34m()\u001b[0m\n\u001b[0;32m----> 1\u001b[0;31m \u001b[0mget_ipython\u001b[0m\u001b[0;34m(\u001b[0m\u001b[0;34m)\u001b[0m\u001b[0;34m.\u001b[0m\u001b[0msystem\u001b[0m\u001b[0;34m(\u001b[0m\u001b[0;34m'mavproxy.py --baud=57600 --aircraft=\"Quaddy\" --speech --console --map --quadcopter'\u001b[0m\u001b[0;34m)\u001b[0m\u001b[0;34m\u001b[0m\u001b[0;34m\u001b[0m\u001b[0m\n\u001b[0m",
            "\u001b[0;32m/usr/local/lib/python3.6/dist-packages/google/colab/_shell.py\u001b[0m in \u001b[0;36msystem\u001b[0;34m(self, *args, **kwargs)\u001b[0m\n\u001b[1;32m     94\u001b[0m       \u001b[0mkwargs\u001b[0m\u001b[0;34m.\u001b[0m\u001b[0mupdate\u001b[0m\u001b[0;34m(\u001b[0m\u001b[0;34m{\u001b[0m\u001b[0;34m'also_return_output'\u001b[0m\u001b[0;34m:\u001b[0m \u001b[0;32mTrue\u001b[0m\u001b[0;34m}\u001b[0m\u001b[0;34m)\u001b[0m\u001b[0;34m\u001b[0m\u001b[0;34m\u001b[0m\u001b[0m\n\u001b[1;32m     95\u001b[0m \u001b[0;34m\u001b[0m\u001b[0m\n\u001b[0;32m---> 96\u001b[0;31m     \u001b[0moutput\u001b[0m \u001b[0;34m=\u001b[0m \u001b[0m_system_commands\u001b[0m\u001b[0;34m.\u001b[0m\u001b[0m_system_compat\u001b[0m\u001b[0;34m(\u001b[0m\u001b[0mself\u001b[0m\u001b[0;34m,\u001b[0m \u001b[0;34m*\u001b[0m\u001b[0margs\u001b[0m\u001b[0;34m,\u001b[0m \u001b[0;34m**\u001b[0m\u001b[0mkwargs\u001b[0m\u001b[0;34m)\u001b[0m  \u001b[0;31m# pylint:disable=protected-access\u001b[0m\u001b[0;34m\u001b[0m\u001b[0;34m\u001b[0m\u001b[0m\n\u001b[0m\u001b[1;32m     97\u001b[0m \u001b[0;34m\u001b[0m\u001b[0m\n\u001b[1;32m     98\u001b[0m     \u001b[0;32mif\u001b[0m \u001b[0mpip_warn\u001b[0m\u001b[0;34m:\u001b[0m\u001b[0;34m\u001b[0m\u001b[0;34m\u001b[0m\u001b[0m\n",
            "\u001b[0;32m/usr/local/lib/python3.6/dist-packages/google/colab/_system_commands.py\u001b[0m in \u001b[0;36m_system_compat\u001b[0;34m(shell, cmd, also_return_output)\u001b[0m\n\u001b[1;32m    436\u001b[0m   \u001b[0;31m# stack.\u001b[0m\u001b[0;34m\u001b[0m\u001b[0;34m\u001b[0m\u001b[0;34m\u001b[0m\u001b[0m\n\u001b[1;32m    437\u001b[0m   result = _run_command(\n\u001b[0;32m--> 438\u001b[0;31m       shell.var_expand(cmd, depth=2), clear_streamed_output=False)\n\u001b[0m\u001b[1;32m    439\u001b[0m   \u001b[0mshell\u001b[0m\u001b[0;34m.\u001b[0m\u001b[0muser_ns\u001b[0m\u001b[0;34m[\u001b[0m\u001b[0;34m'_exit_code'\u001b[0m\u001b[0;34m]\u001b[0m \u001b[0;34m=\u001b[0m \u001b[0mresult\u001b[0m\u001b[0;34m.\u001b[0m\u001b[0mreturncode\u001b[0m\u001b[0;34m\u001b[0m\u001b[0;34m\u001b[0m\u001b[0m\n\u001b[1;32m    440\u001b[0m   \u001b[0;32mif\u001b[0m \u001b[0;34m-\u001b[0m\u001b[0mresult\u001b[0m\u001b[0;34m.\u001b[0m\u001b[0mreturncode\u001b[0m \u001b[0;32min\u001b[0m \u001b[0m_INTERRUPTED_SIGNALS\u001b[0m\u001b[0;34m:\u001b[0m\u001b[0;34m\u001b[0m\u001b[0;34m\u001b[0m\u001b[0m\n",
            "\u001b[0;32m/usr/local/lib/python3.6/dist-packages/google/colab/_system_commands.py\u001b[0m in \u001b[0;36m_run_command\u001b[0;34m(cmd, clear_streamed_output)\u001b[0m\n\u001b[1;32m    193\u001b[0m       \u001b[0mos\u001b[0m\u001b[0;34m.\u001b[0m\u001b[0mclose\u001b[0m\u001b[0;34m(\u001b[0m\u001b[0mchild_pty\u001b[0m\u001b[0;34m)\u001b[0m\u001b[0;34m\u001b[0m\u001b[0;34m\u001b[0m\u001b[0m\n\u001b[1;32m    194\u001b[0m \u001b[0;34m\u001b[0m\u001b[0m\n\u001b[0;32m--> 195\u001b[0;31m       \u001b[0;32mreturn\u001b[0m \u001b[0m_monitor_process\u001b[0m\u001b[0;34m(\u001b[0m\u001b[0mparent_pty\u001b[0m\u001b[0;34m,\u001b[0m \u001b[0mepoll\u001b[0m\u001b[0;34m,\u001b[0m \u001b[0mp\u001b[0m\u001b[0;34m,\u001b[0m \u001b[0mcmd\u001b[0m\u001b[0;34m,\u001b[0m \u001b[0mupdate_stdin_widget\u001b[0m\u001b[0;34m)\u001b[0m\u001b[0;34m\u001b[0m\u001b[0;34m\u001b[0m\u001b[0m\n\u001b[0m\u001b[1;32m    196\u001b[0m   \u001b[0;32mfinally\u001b[0m\u001b[0;34m:\u001b[0m\u001b[0;34m\u001b[0m\u001b[0;34m\u001b[0m\u001b[0m\n\u001b[1;32m    197\u001b[0m     \u001b[0mepoll\u001b[0m\u001b[0;34m.\u001b[0m\u001b[0mclose\u001b[0m\u001b[0;34m(\u001b[0m\u001b[0;34m)\u001b[0m\u001b[0;34m\u001b[0m\u001b[0;34m\u001b[0m\u001b[0m\n",
            "\u001b[0;32m/usr/local/lib/python3.6/dist-packages/google/colab/_system_commands.py\u001b[0m in \u001b[0;36m_monitor_process\u001b[0;34m(parent_pty, epoll, p, cmd, update_stdin_widget)\u001b[0m\n\u001b[1;32m    227\u001b[0m       \u001b[0mnew_echo_status\u001b[0m \u001b[0;34m=\u001b[0m \u001b[0mbool\u001b[0m\u001b[0;34m(\u001b[0m\u001b[0mterm_settings\u001b[0m\u001b[0;34m[\u001b[0m\u001b[0;36m3\u001b[0m\u001b[0;34m]\u001b[0m \u001b[0;34m&\u001b[0m \u001b[0mtermios\u001b[0m\u001b[0;34m.\u001b[0m\u001b[0mECHO\u001b[0m\u001b[0;34m)\u001b[0m\u001b[0;34m\u001b[0m\u001b[0;34m\u001b[0m\u001b[0m\n\u001b[1;32m    228\u001b[0m       \u001b[0;32mif\u001b[0m \u001b[0mecho_status\u001b[0m \u001b[0;34m!=\u001b[0m \u001b[0mnew_echo_status\u001b[0m\u001b[0;34m:\u001b[0m\u001b[0;34m\u001b[0m\u001b[0;34m\u001b[0m\u001b[0m\n\u001b[0;32m--> 229\u001b[0;31m         \u001b[0mupdate_stdin_widget\u001b[0m\u001b[0;34m(\u001b[0m\u001b[0mnew_echo_status\u001b[0m\u001b[0;34m)\u001b[0m\u001b[0;34m\u001b[0m\u001b[0;34m\u001b[0m\u001b[0m\n\u001b[0m\u001b[1;32m    230\u001b[0m         \u001b[0mecho_status\u001b[0m \u001b[0;34m=\u001b[0m \u001b[0mnew_echo_status\u001b[0m\u001b[0;34m\u001b[0m\u001b[0;34m\u001b[0m\u001b[0m\n\u001b[1;32m    231\u001b[0m     \u001b[0;32mexcept\u001b[0m \u001b[0mKeyboardInterrupt\u001b[0m\u001b[0;34m:\u001b[0m\u001b[0;34m\u001b[0m\u001b[0;34m\u001b[0m\u001b[0m\n",
            "\u001b[0;32m/usr/local/lib/python3.6/dist-packages/google/colab/_system_commands.py\u001b[0m in \u001b[0;36mecho_updater\u001b[0;34m(new_echo_status)\u001b[0m\n\u001b[1;32m    348\u001b[0m     \u001b[0;31m# https://github.com/googlecolab/colabtools/blob/56e4dbec7c4fa09fad51b60feb5c786c69d688c6/google/colab/_message.py#L100.\u001b[0m\u001b[0;34m\u001b[0m\u001b[0;34m\u001b[0m\u001b[0;34m\u001b[0m\u001b[0m\n\u001b[1;32m    349\u001b[0m     \u001b[0mupdate_args\u001b[0m \u001b[0;34m=\u001b[0m \u001b[0;34m[\u001b[0m\u001b[0;34m'cell_update_stdin'\u001b[0m\u001b[0;34m,\u001b[0m \u001b[0;34m{\u001b[0m\u001b[0;34m'echo'\u001b[0m\u001b[0;34m:\u001b[0m \u001b[0mnew_echo_status\u001b[0m\u001b[0;34m}\u001b[0m\u001b[0;34m]\u001b[0m\u001b[0;34m\u001b[0m\u001b[0;34m\u001b[0m\u001b[0m\n\u001b[0;32m--> 350\u001b[0;31m     \u001b[0m_message\u001b[0m\u001b[0;34m.\u001b[0m\u001b[0mblocking_request\u001b[0m\u001b[0;34m(\u001b[0m\u001b[0;34m*\u001b[0m\u001b[0mupdate_args\u001b[0m\u001b[0;34m,\u001b[0m \u001b[0mparent\u001b[0m\u001b[0;34m=\u001b[0m\u001b[0mshell\u001b[0m\u001b[0;34m.\u001b[0m\u001b[0mparent_header\u001b[0m\u001b[0;34m)\u001b[0m\u001b[0;34m\u001b[0m\u001b[0;34m\u001b[0m\u001b[0m\n\u001b[0m\u001b[1;32m    351\u001b[0m \u001b[0;34m\u001b[0m\u001b[0m\n\u001b[1;32m    352\u001b[0m   \u001b[0;32myield\u001b[0m \u001b[0mecho_updater\u001b[0m\u001b[0;34m\u001b[0m\u001b[0;34m\u001b[0m\u001b[0m\n",
            "\u001b[0;32m/usr/local/lib/python3.6/dist-packages/google/colab/_message.py\u001b[0m in \u001b[0;36mblocking_request\u001b[0;34m(request_type, request, timeout_sec, parent)\u001b[0m\n\u001b[1;32m    169\u001b[0m   \u001b[0;31m# unique.\u001b[0m\u001b[0;34m\u001b[0m\u001b[0;34m\u001b[0m\u001b[0;34m\u001b[0m\u001b[0m\n\u001b[1;32m    170\u001b[0m   \u001b[0mrequest_id\u001b[0m \u001b[0;34m=\u001b[0m \u001b[0msend_request\u001b[0m\u001b[0;34m(\u001b[0m\u001b[0mrequest_type\u001b[0m\u001b[0;34m,\u001b[0m \u001b[0mrequest\u001b[0m\u001b[0;34m,\u001b[0m \u001b[0mparent\u001b[0m\u001b[0;34m=\u001b[0m\u001b[0mparent\u001b[0m\u001b[0;34m)\u001b[0m\u001b[0;34m\u001b[0m\u001b[0;34m\u001b[0m\u001b[0m\n\u001b[0;32m--> 171\u001b[0;31m   \u001b[0;32mreturn\u001b[0m \u001b[0mread_reply_from_input\u001b[0m\u001b[0;34m(\u001b[0m\u001b[0mrequest_id\u001b[0m\u001b[0;34m,\u001b[0m \u001b[0mtimeout_sec\u001b[0m\u001b[0;34m)\u001b[0m\u001b[0;34m\u001b[0m\u001b[0;34m\u001b[0m\u001b[0m\n\u001b[0m",
            "\u001b[0;32m/usr/local/lib/python3.6/dist-packages/google/colab/_message.py\u001b[0m in \u001b[0;36mread_reply_from_input\u001b[0;34m(message_id, timeout_sec)\u001b[0m\n\u001b[1;32m    104\u001b[0m         reply.get('colab_msg_id') == message_id):\n\u001b[1;32m    105\u001b[0m       \u001b[0;32mif\u001b[0m \u001b[0;34m'error'\u001b[0m \u001b[0;32min\u001b[0m \u001b[0mreply\u001b[0m\u001b[0;34m:\u001b[0m\u001b[0;34m\u001b[0m\u001b[0;34m\u001b[0m\u001b[0m\n\u001b[0;32m--> 106\u001b[0;31m         \u001b[0;32mraise\u001b[0m \u001b[0mMessageError\u001b[0m\u001b[0;34m(\u001b[0m\u001b[0mreply\u001b[0m\u001b[0;34m[\u001b[0m\u001b[0;34m'error'\u001b[0m\u001b[0;34m]\u001b[0m\u001b[0;34m)\u001b[0m\u001b[0;34m\u001b[0m\u001b[0;34m\u001b[0m\u001b[0m\n\u001b[0m\u001b[1;32m    107\u001b[0m       \u001b[0;32mreturn\u001b[0m \u001b[0mreply\u001b[0m\u001b[0;34m.\u001b[0m\u001b[0mget\u001b[0m\u001b[0;34m(\u001b[0m\u001b[0;34m'data'\u001b[0m\u001b[0;34m,\u001b[0m \u001b[0;32mNone\u001b[0m\u001b[0;34m)\u001b[0m\u001b[0;34m\u001b[0m\u001b[0;34m\u001b[0m\u001b[0m\n\u001b[1;32m    108\u001b[0m \u001b[0;34m\u001b[0m\u001b[0m\n",
            "\u001b[0;31mMessageError\u001b[0m: Error: Cell has no view"
          ]
        }
      ]
    },
    {
      "cell_type": "code",
      "metadata": {
        "id": "KeV56LQjqY7B",
        "colab_type": "code",
        "colab": {}
      },
      "source": [
        "!mavproxy.py --master=udp:127.0.0.1:14550"
      ],
      "execution_count": 0,
      "outputs": []
    },
    {
      "cell_type": "code",
      "metadata": {
        "id": "uPCRfspU73jC",
        "colab_type": "code",
        "colab": {
          "base_uri": "https://localhost:8080/",
          "height": 200
        },
        "outputId": "b49537e2-095c-4e9c-d694-f8cfb2505fb4"
      },
      "source": [
        "from __future__ import print_function\n",
        "\n",
        "from dronekit import connect, VehicleMode, LocationGlobalRelative, LocationGlobal, Command\n",
        "import time\n",
        "import math\n",
        "from pymavlink import mavutil\n",
        "\n",
        "\n",
        "#Set up option parsing to get connection string\n",
        "import argparse  \n",
        "parser = argparse.ArgumentParser(description='Demonstrates basic mission operations.')\n",
        "parser.add_argument('--connect', \n",
        "                   help=\"vehicle connection target string. If not specified, SITL automatically started and used.\")\n",
        "args = parser.parse_args()\n",
        "\n",
        "connection_string = args.connect\n",
        "sitl = None\n",
        "\n",
        "\n",
        "#Start SITL if no connection string specified\n",
        "if not connection_string:\n",
        "    import dronekit_sitl\n",
        "    sitl = dronekit_sitl.start_default()\n",
        "    connection_string = sitl.connection_string()\n",
        "\n",
        "\n",
        "# Connect to the Vehicle\n",
        "print('Connecting to vehicle on: %s' % connection_string)\n",
        "vehicle = connect(connection_string, wait_ready=True)\n",
        "\n",
        "\n",
        "def get_location_metres(original_location, dNorth, dEast):\n",
        "    \"\"\"\n",
        "    Returns a LocationGlobal object containing the latitude/longitude `dNorth` and `dEast` metres from the \n",
        "    specified `original_location`. The returned Location has the same `alt` value\n",
        "    as `original_location`.\n",
        "\n",
        "    The function is useful when you want to move the vehicle around specifying locations relative to \n",
        "    the current vehicle position.\n",
        "    The algorithm is relatively accurate over small distances (10m within 1km) except close to the poles.\n",
        "    For more information see:\n",
        "    http://gis.stackexchange.com/questions/2951/algorithm-for-offsetting-a-latitude-longitude-by-some-amount-of-meters\n",
        "    \"\"\"\n",
        "    earth_radius=6378137.0 #Radius of \"spherical\" earth\n",
        "    #Coordinate offsets in radians\n",
        "    dLat = dNorth/earth_radius\n",
        "    dLon = dEast/(earth_radius*math.cos(math.pi*original_location.lat/180))\n",
        "\n",
        "    #New position in decimal degrees\n",
        "    newlat = original_location.lat + (dLat * 180/math.pi)\n",
        "    newlon = original_location.lon + (dLon * 180/math.pi)\n",
        "    return LocationGlobal(newlat, newlon,original_location.alt)\n",
        "\n",
        "\n",
        "def get_distance_metres(aLocation1, aLocation2):\n",
        "    \"\"\"\n",
        "    Returns the ground distance in metres between two LocationGlobal objects.\n",
        "\n",
        "    This method is an approximation, and will not be accurate over large distances and close to the \n",
        "    earth's poles. It comes from the ArduPilot test code: \n",
        "    https://github.com/diydrones/ardupilot/blob/master/Tools/autotest/common.py\n",
        "    \"\"\"\n",
        "    dlat = aLocation2.lat - aLocation1.lat\n",
        "    dlong = aLocation2.lon - aLocation1.lon\n",
        "    return math.sqrt((dlat*dlat) + (dlong*dlong)) * 1.113195e5\n",
        "\n",
        "\n",
        "\n",
        "def distance_to_current_waypoint():\n",
        "    \"\"\"\n",
        "    Gets distance in metres to the current waypoint. \n",
        "    It returns None for the first waypoint (Home location).\n",
        "    \"\"\"\n",
        "    nextwaypoint = vehicle.commands.next\n",
        "    if nextwaypoint==0:\n",
        "        return None\n",
        "    missionitem=vehicle.commands[nextwaypoint-1] #commands are zero indexed\n",
        "    lat = missionitem.x\n",
        "    lon = missionitem.y\n",
        "    alt = missionitem.z\n",
        "    targetWaypointLocation = LocationGlobalRelative(lat,lon,alt)\n",
        "    distancetopoint = get_distance_metres(vehicle.location.global_frame, targetWaypointLocation)\n",
        "    return distancetopoint\n",
        "\n",
        "\n",
        "def download_mission():\n",
        "    \"\"\"\n",
        "    Download the current mission from the vehicle.\n",
        "    \"\"\"\n",
        "    cmds = vehicle.commands\n",
        "    cmds.download()\n",
        "    cmds.wait_ready() # wait until download is complete.\n",
        "\n",
        "\n",
        "\n",
        "def adds_square_mission(aLocation, aSize):\n",
        "    \"\"\"\n",
        "    Adds a takeoff command and four waypoint commands to the current mission. \n",
        "    The waypoints are positioned to form a square of side length 2*aSize around the specified LocationGlobal (aLocation).\n",
        "\n",
        "    The function assumes vehicle.commands matches the vehicle mission state \n",
        "    (you must have called download at least once in the session and after clearing the mission)\n",
        "    \"\"\"\t\n",
        "\n",
        "    cmds = vehicle.commands\n",
        "\n",
        "    print(\" Clear any existing commands\")\n",
        "    cmds.clear() \n",
        "    \n",
        "    print(\" Define/add new commands.\")\n",
        "    # Add new commands. The meaning/order of the parameters is documented in the Command class. \n",
        "     \n",
        "    #Add MAV_CMD_NAV_TAKEOFF command. This is ignored if the vehicle is already in the air.\n",
        "    cmds.add(Command( 0, 0, 0, mavutil.mavlink.MAV_FRAME_GLOBAL_RELATIVE_ALT, mavutil.mavlink.MAV_CMD_NAV_TAKEOFF, 0, 0, 0, 0, 0, 0, 0, 0, 10))\n",
        "\n",
        "    #Define the four MAV_CMD_NAV_WAYPOINT locations and add the commands\n",
        "    point1 = get_location_metres(aLocation, aSize, -aSize)\n",
        "    point2 = get_location_metres(aLocation, aSize, aSize)\n",
        "    point3 = get_location_metres(aLocation, -aSize, aSize)\n",
        "    point4 = get_location_metres(aLocation, -aSize, -aSize)\n",
        "    cmds.add(Command( 0, 0, 0, mavutil.mavlink.MAV_FRAME_GLOBAL_RELATIVE_ALT, mavutil.mavlink.MAV_CMD_NAV_WAYPOINT, 0, 0, 0, 0, 0, 0, point1.lat, point1.lon, 11))\n",
        "    cmds.add(Command( 0, 0, 0, mavutil.mavlink.MAV_FRAME_GLOBAL_RELATIVE_ALT, mavutil.mavlink.MAV_CMD_NAV_WAYPOINT, 0, 0, 0, 0, 0, 0, point2.lat, point2.lon, 12))\n",
        "    cmds.add(Command( 0, 0, 0, mavutil.mavlink.MAV_FRAME_GLOBAL_RELATIVE_ALT, mavutil.mavlink.MAV_CMD_NAV_WAYPOINT, 0, 0, 0, 0, 0, 0, point3.lat, point3.lon, 13))\n",
        "    cmds.add(Command( 0, 0, 0, mavutil.mavlink.MAV_FRAME_GLOBAL_RELATIVE_ALT, mavutil.mavlink.MAV_CMD_NAV_WAYPOINT, 0, 0, 0, 0, 0, 0, point4.lat, point4.lon, 14))\n",
        "    #add dummy waypoint \"5\" at point 4 (lets us know when have reached destination)\n",
        "    cmds.add(Command( 0, 0, 0, mavutil.mavlink.MAV_FRAME_GLOBAL_RELATIVE_ALT, mavutil.mavlink.MAV_CMD_NAV_WAYPOINT, 0, 0, 0, 0, 0, 0, point4.lat, point4.lon, 14))    \n",
        "\n",
        "    print(\" Upload new commands to vehicle\")\n",
        "    cmds.upload()\n",
        "\n",
        "\n",
        "def arm_and_takeoff(aTargetAltitude):\n",
        "    \"\"\"\n",
        "    Arms vehicle and fly to aTargetAltitude.\n",
        "    \"\"\"\n",
        "\n",
        "    print(\"Basic pre-arm checks\")\n",
        "    # Don't let the user try to arm until autopilot is ready\n",
        "    while not vehicle.is_armable:\n",
        "        print(\" Waiting for vehicle to initialise...\")\n",
        "        time.sleep(1)\n",
        "\n",
        "        \n",
        "    print(\"Arming motors\")\n",
        "    # Copter should arm in GUIDED mode\n",
        "    vehicle.mode = VehicleMode(\"GUIDED\")\n",
        "    vehicle.armed = True\n",
        "\n",
        "    while not vehicle.armed:      \n",
        "        print(\" Waiting for arming...\")\n",
        "        time.sleep(1)\n",
        "\n",
        "    print(\"Taking off!\")\n",
        "    vehicle.simple_takeoff(aTargetAltitude) # Take off to target altitude\n",
        "\n",
        "    # Wait until the vehicle reaches a safe height before processing the goto (otherwise the command \n",
        "    #  after Vehicle.simple_takeoff will execute immediately).\n",
        "    while True:\n",
        "        print(\" Altitude: \", vehicle.location.global_relative_frame.alt)      \n",
        "        if vehicle.location.global_relative_frame.alt>=aTargetAltitude*0.95: #Trigger just below target alt.\n",
        "            print(\"Reached target altitude\")\n",
        "            break\n",
        "        time.sleep(1)\n",
        "\n",
        "        \n",
        "print('Create a new mission (for current location)')\n",
        "adds_square_mission(vehicle.location.global_frame,50)\n",
        "\n",
        "\n",
        "# From Copter 3.3 you will be able to take off using a mission item. Plane must take off using a mission item (currently).\n",
        "arm_and_takeoff(10)\n",
        "\n",
        "print(\"Starting mission\")\n",
        "# Reset mission set to first (0) waypoint\n",
        "vehicle.commands.next=0\n",
        "\n",
        "# Set mode to AUTO to start mission\n",
        "vehicle.mode = VehicleMode(\"AUTO\")\n",
        "\n",
        "\n",
        "# Monitor mission. \n",
        "# Demonstrates getting and setting the command number \n",
        "# Uses distance_to_current_waypoint(), a convenience function for finding the \n",
        "#   distance to the next waypoint.\n",
        "\n",
        "while True:\n",
        "    nextwaypoint=vehicle.commands.next\n",
        "    print('Distance to waypoint (%s): %s' % (nextwaypoint, distance_to_current_waypoint()))\n",
        "  \n",
        "    if nextwaypoint==3: #Skip to next waypoint\n",
        "        print('Skipping to Waypoint 5 when reach waypoint 3')\n",
        "        vehicle.commands.next = 5\n",
        "    if nextwaypoint==5: #Dummy waypoint - as soon as we reach waypoint 4 this is true and we exit.\n",
        "        print(\"Exit 'standard' mission when start heading to final waypoint (5)\")\n",
        "        break;\n",
        "    time.sleep(1)\n",
        "\n",
        "print('Return to launch')\n",
        "vehicle.mode = VehicleMode(\"RTL\")\n",
        "\n",
        "\n",
        "#Close vehicle object before exiting script\n",
        "print(\"Close vehicle object\")\n",
        "vehicle.close()\n",
        "\n",
        "# Shut down simulator if it was started.\n",
        "if sitl is not None:\n",
        "    sitl.stop()"
      ],
      "execution_count": 4,
      "outputs": [
        {
          "output_type": "stream",
          "text": [
            "usage: ipykernel_launcher.py [-h] [--connect CONNECT]\n",
            "ipykernel_launcher.py: error: unrecognized arguments: -f /root/.local/share/jupyter/runtime/kernel-297aedc7-0994-4060-b2fb-6a0fe07835f3.json\n"
          ],
          "name": "stderr"
        },
        {
          "output_type": "error",
          "ename": "SystemExit",
          "evalue": "ignored",
          "traceback": [
            "An exception has occurred, use %tb to see the full traceback.\n",
            "\u001b[0;31mSystemExit\u001b[0m\u001b[0;31m:\u001b[0m 2\n"
          ]
        },
        {
          "output_type": "stream",
          "text": [
            "/usr/local/lib/python3.6/dist-packages/IPython/core/interactiveshell.py:2890: UserWarning: To exit: use 'exit', 'quit', or Ctrl-D.\n",
            "  warn(\"To exit: use 'exit', 'quit', or Ctrl-D.\", stacklevel=1)\n"
          ],
          "name": "stderr"
        }
      ]
    },
    {
      "cell_type": "code",
      "metadata": {
        "id": "7pk528Dk8rjW",
        "colab_type": "code",
        "colab": {
          "base_uri": "https://localhost:8080/",
          "height": 34
        },
        "outputId": "df233cbe-c93d-41fb-ab09-0118291295bc"
      },
      "source": [
        "!ipykernel_launcher.py [-h] [--connect CONNECT]"
      ],
      "execution_count": 5,
      "outputs": [
        {
          "output_type": "stream",
          "text": [
            "/bin/bash: ipykernel_launcher.py: command not found\n"
          ],
          "name": "stdout"
        }
      ]
    },
    {
      "cell_type": "code",
      "metadata": {
        "id": "IM967M3HBnps",
        "colab_type": "code",
        "colab": {
          "base_uri": "https://localhost:8080/",
          "height": 360
        },
        "outputId": "81aa562d-fe27-4945-a697-40c7ddaf73c7"
      },
      "source": [
        "!pip install airsim"
      ],
      "execution_count": 6,
      "outputs": [
        {
          "output_type": "stream",
          "text": [
            "Collecting airsim\n",
            "  Downloading https://files.pythonhosted.org/packages/71/a7/d61032c3ec9cc47db135c50b94410dcc420d52ed5d97ecbcf4277eabb181/airsim-1.2.5-py3-none-any.whl\n",
            "Collecting msgpack-rpc-python\n",
            "  Downloading https://files.pythonhosted.org/packages/bf/67/c3cfa7158c46fa3fb1898783ff722f94c52e8b65f601922c853f46405df3/msgpack-rpc-python-0.4.1.tar.gz\n",
            "Requirement already satisfied: numpy in /usr/local/lib/python3.6/dist-packages (from airsim) (1.17.5)\n",
            "Collecting msgpack-python\n",
            "\u001b[?25l  Downloading https://files.pythonhosted.org/packages/8a/20/6eca772d1a5830336f84aca1d8198e5a3f4715cd1c7fc36d3cc7f7185091/msgpack-python-0.5.6.tar.gz (138kB)\n",
            "\u001b[K     |████████████████████████████████| 143kB 5.2MB/s \n",
            "\u001b[?25hRequirement already satisfied: tornado<5,>=3 in /usr/local/lib/python3.6/dist-packages (from msgpack-rpc-python->airsim) (4.5.3)\n",
            "Building wheels for collected packages: msgpack-rpc-python, msgpack-python\n",
            "  Building wheel for msgpack-rpc-python (setup.py) ... \u001b[?25l\u001b[?25hdone\n",
            "  Created wheel for msgpack-rpc-python: filename=msgpack_rpc_python-0.4.1-cp36-none-any.whl size=9332 sha256=cd9f8d185633e83c82e00fd99f8e50c9fa933e130704150336faaf28f8bfa82d\n",
            "  Stored in directory: /root/.cache/pip/wheels/0d/9a/f0/adefa1821ec66959a8335e32b33bdd47d2c56074a91ec20f47\n",
            "  Building wheel for msgpack-python (setup.py) ... \u001b[?25l\u001b[?25hdone\n",
            "  Created wheel for msgpack-python: filename=msgpack_python-0.5.6-cp36-cp36m-linux_x86_64.whl size=297284 sha256=6669079423534beff1bddedf16922840bfec35b3cdcb2264c60d5cab85111357\n",
            "  Stored in directory: /root/.cache/pip/wheels/d5/de/86/7fa56fda12511be47ea0808f3502bc879df4e63ab168ec0406\n",
            "Successfully built msgpack-rpc-python msgpack-python\n",
            "Installing collected packages: msgpack-python, msgpack-rpc-python, airsim\n",
            "Successfully installed airsim-1.2.5 msgpack-python-0.5.6 msgpack-rpc-python-0.4.1\n"
          ],
          "name": "stdout"
        }
      ]
    },
    {
      "cell_type": "code",
      "metadata": {
        "id": "sDKmJD-kBs3E",
        "colab_type": "code",
        "colab": {
          "base_uri": "https://localhost:8080/",
          "height": 374
        },
        "outputId": "bd01b38d-be0a-473e-d28a-ecc77029d747"
      },
      "source": [
        "import airsim\n",
        "\n",
        "# connect to the AirSim simulator \n",
        "client = airsim.MultirotorClient()\n",
        "client.confirmConnection()\n",
        "client.enableApiControl(True)\n",
        "client.armDisarm(True)\n",
        "\n",
        "# Async methods returns Future. Call join() to wait for task to complete.\n",
        "client.takeoffAsync().join()\n",
        "client.moveToPositionAsync(-10, 10, -10, 5).join()\n",
        "\n",
        "# take images\n",
        "responses = client.simGetImages([\n",
        "    airsim.ImageRequest(\"0\", airsim.ImageType.DepthVis), \n",
        "    airsim.ImageRequest(\"1\", airsim.ImageType.DepthPlanner, True)])\n",
        "print('Retrieved images: %d', len(responses))\n",
        "\n",
        "# do something with the images\n",
        "for response in responses:\n",
        "    if response.pixels_as_float:\n",
        "        print(\"Type %d, size %d\" % (response.image_type, len(response.image_data_float)))\n",
        "        airsim.write_pfm(os.path.normpath('/temp/py1.pfm'), airsim.getPfmArray(response))\n",
        "    else:\n",
        "        print(\"Type %d, size %d\" % (response.image_type, len(response.image_data_uint8)))\n",
        "        airsim.write_file(os.path.normpath('/temp/py1.png'), response.image_data_uint8)"
      ],
      "execution_count": 9,
      "outputs": [
        {
          "output_type": "error",
          "ename": "TransportError",
          "evalue": "ignored",
          "traceback": [
            "\u001b[0;31m---------------------------------------------------------------------------\u001b[0m",
            "\u001b[0;31mTransportError\u001b[0m                            Traceback (most recent call last)",
            "\u001b[0;32m<ipython-input-9-8474569dc2d2>\u001b[0m in \u001b[0;36m<module>\u001b[0;34m()\u001b[0m\n\u001b[1;32m      3\u001b[0m \u001b[0;31m# connect to the AirSim simulator\u001b[0m\u001b[0;34m\u001b[0m\u001b[0;34m\u001b[0m\u001b[0;34m\u001b[0m\u001b[0m\n\u001b[1;32m      4\u001b[0m \u001b[0mclient\u001b[0m \u001b[0;34m=\u001b[0m \u001b[0mairsim\u001b[0m\u001b[0;34m.\u001b[0m\u001b[0mMultirotorClient\u001b[0m\u001b[0;34m(\u001b[0m\u001b[0;34m)\u001b[0m\u001b[0;34m\u001b[0m\u001b[0;34m\u001b[0m\u001b[0m\n\u001b[0;32m----> 5\u001b[0;31m \u001b[0mclient\u001b[0m\u001b[0;34m.\u001b[0m\u001b[0mconfirmConnection\u001b[0m\u001b[0;34m(\u001b[0m\u001b[0;34m)\u001b[0m\u001b[0;34m\u001b[0m\u001b[0;34m\u001b[0m\u001b[0m\n\u001b[0m\u001b[1;32m      6\u001b[0m \u001b[0mclient\u001b[0m\u001b[0;34m.\u001b[0m\u001b[0menableApiControl\u001b[0m\u001b[0;34m(\u001b[0m\u001b[0;32mTrue\u001b[0m\u001b[0;34m)\u001b[0m\u001b[0;34m\u001b[0m\u001b[0;34m\u001b[0m\u001b[0m\n\u001b[1;32m      7\u001b[0m \u001b[0mclient\u001b[0m\u001b[0;34m.\u001b[0m\u001b[0marmDisarm\u001b[0m\u001b[0;34m(\u001b[0m\u001b[0;32mTrue\u001b[0m\u001b[0;34m)\u001b[0m\u001b[0;34m\u001b[0m\u001b[0;34m\u001b[0m\u001b[0m\n",
            "\u001b[0;32m/usr/local/lib/python3.6/dist-packages/airsim/client.py\u001b[0m in \u001b[0;36mconfirmConnection\u001b[0;34m(self)\u001b[0m\n\u001b[1;32m     52\u001b[0m \u001b[0;34m\u001b[0m\u001b[0m\n\u001b[1;32m     53\u001b[0m     \u001b[0;32mdef\u001b[0m \u001b[0mconfirmConnection\u001b[0m\u001b[0;34m(\u001b[0m\u001b[0mself\u001b[0m\u001b[0;34m)\u001b[0m\u001b[0;34m:\u001b[0m\u001b[0;34m\u001b[0m\u001b[0;34m\u001b[0m\u001b[0m\n\u001b[0;32m---> 54\u001b[0;31m         \u001b[0;32mif\u001b[0m \u001b[0mself\u001b[0m\u001b[0;34m.\u001b[0m\u001b[0mping\u001b[0m\u001b[0;34m(\u001b[0m\u001b[0;34m)\u001b[0m\u001b[0;34m:\u001b[0m\u001b[0;34m\u001b[0m\u001b[0;34m\u001b[0m\u001b[0m\n\u001b[0m\u001b[1;32m     55\u001b[0m             \u001b[0mprint\u001b[0m\u001b[0;34m(\u001b[0m\u001b[0;34m\"Connected!\"\u001b[0m\u001b[0;34m)\u001b[0m\u001b[0;34m\u001b[0m\u001b[0;34m\u001b[0m\u001b[0m\n\u001b[1;32m     56\u001b[0m         \u001b[0;32melse\u001b[0m\u001b[0;34m:\u001b[0m\u001b[0;34m\u001b[0m\u001b[0;34m\u001b[0m\u001b[0m\n",
            "\u001b[0;32m/usr/local/lib/python3.6/dist-packages/airsim/client.py\u001b[0m in \u001b[0;36mping\u001b[0;34m(self)\u001b[0m\n\u001b[1;32m     22\u001b[0m \u001b[0;34m\u001b[0m\u001b[0m\n\u001b[1;32m     23\u001b[0m     \u001b[0;32mdef\u001b[0m \u001b[0mping\u001b[0m\u001b[0;34m(\u001b[0m\u001b[0mself\u001b[0m\u001b[0;34m)\u001b[0m\u001b[0;34m:\u001b[0m\u001b[0;34m\u001b[0m\u001b[0;34m\u001b[0m\u001b[0m\n\u001b[0;32m---> 24\u001b[0;31m         \u001b[0;32mreturn\u001b[0m \u001b[0mself\u001b[0m\u001b[0;34m.\u001b[0m\u001b[0mclient\u001b[0m\u001b[0;34m.\u001b[0m\u001b[0mcall\u001b[0m\u001b[0;34m(\u001b[0m\u001b[0;34m'ping'\u001b[0m\u001b[0;34m)\u001b[0m\u001b[0;34m\u001b[0m\u001b[0;34m\u001b[0m\u001b[0m\n\u001b[0m\u001b[1;32m     25\u001b[0m \u001b[0;34m\u001b[0m\u001b[0m\n\u001b[1;32m     26\u001b[0m     \u001b[0;32mdef\u001b[0m \u001b[0mgetClientVersion\u001b[0m\u001b[0;34m(\u001b[0m\u001b[0mself\u001b[0m\u001b[0;34m)\u001b[0m\u001b[0;34m:\u001b[0m\u001b[0;34m\u001b[0m\u001b[0;34m\u001b[0m\u001b[0m\n",
            "\u001b[0;32m/usr/local/lib/python3.6/dist-packages/msgpackrpc/session.py\u001b[0m in \u001b[0;36mcall\u001b[0;34m(self, method, *args)\u001b[0m\n\u001b[1;32m     39\u001b[0m \u001b[0;34m\u001b[0m\u001b[0m\n\u001b[1;32m     40\u001b[0m     \u001b[0;32mdef\u001b[0m \u001b[0mcall\u001b[0m\u001b[0;34m(\u001b[0m\u001b[0mself\u001b[0m\u001b[0;34m,\u001b[0m \u001b[0mmethod\u001b[0m\u001b[0;34m,\u001b[0m \u001b[0;34m*\u001b[0m\u001b[0margs\u001b[0m\u001b[0;34m)\u001b[0m\u001b[0;34m:\u001b[0m\u001b[0;34m\u001b[0m\u001b[0;34m\u001b[0m\u001b[0m\n\u001b[0;32m---> 41\u001b[0;31m         \u001b[0;32mreturn\u001b[0m \u001b[0mself\u001b[0m\u001b[0;34m.\u001b[0m\u001b[0msend_request\u001b[0m\u001b[0;34m(\u001b[0m\u001b[0mmethod\u001b[0m\u001b[0;34m,\u001b[0m \u001b[0margs\u001b[0m\u001b[0;34m)\u001b[0m\u001b[0;34m.\u001b[0m\u001b[0mget\u001b[0m\u001b[0;34m(\u001b[0m\u001b[0;34m)\u001b[0m\u001b[0;34m\u001b[0m\u001b[0;34m\u001b[0m\u001b[0m\n\u001b[0m\u001b[1;32m     42\u001b[0m \u001b[0;34m\u001b[0m\u001b[0m\n\u001b[1;32m     43\u001b[0m     \u001b[0;32mdef\u001b[0m \u001b[0mcall_async\u001b[0m\u001b[0;34m(\u001b[0m\u001b[0mself\u001b[0m\u001b[0;34m,\u001b[0m \u001b[0mmethod\u001b[0m\u001b[0;34m,\u001b[0m \u001b[0;34m*\u001b[0m\u001b[0margs\u001b[0m\u001b[0;34m)\u001b[0m\u001b[0;34m:\u001b[0m\u001b[0;34m\u001b[0m\u001b[0;34m\u001b[0m\u001b[0m\n",
            "\u001b[0;32m/usr/local/lib/python3.6/dist-packages/msgpackrpc/future.py\u001b[0m in \u001b[0;36mget\u001b[0;34m(self)\u001b[0m\n\u001b[1;32m     41\u001b[0m                 \u001b[0;32melse\u001b[0m\u001b[0;34m:\u001b[0m\u001b[0;34m\u001b[0m\u001b[0;34m\u001b[0m\u001b[0m\n\u001b[1;32m     42\u001b[0m                     \u001b[0;32mif\u001b[0m \u001b[0misinstance\u001b[0m\u001b[0;34m(\u001b[0m\u001b[0mself\u001b[0m\u001b[0;34m.\u001b[0m\u001b[0m_error\u001b[0m\u001b[0;34m,\u001b[0m \u001b[0merror\u001b[0m\u001b[0;34m.\u001b[0m\u001b[0mRPCError\u001b[0m\u001b[0;34m)\u001b[0m\u001b[0;34m:\u001b[0m\u001b[0;34m\u001b[0m\u001b[0;34m\u001b[0m\u001b[0m\n\u001b[0;32m---> 43\u001b[0;31m                         \u001b[0;32mraise\u001b[0m \u001b[0mself\u001b[0m\u001b[0;34m.\u001b[0m\u001b[0m_error\u001b[0m\u001b[0;34m\u001b[0m\u001b[0;34m\u001b[0m\u001b[0m\n\u001b[0m\u001b[1;32m     44\u001b[0m                     \u001b[0;32melse\u001b[0m\u001b[0;34m:\u001b[0m\u001b[0;34m\u001b[0m\u001b[0;34m\u001b[0m\u001b[0m\n\u001b[1;32m     45\u001b[0m                         \u001b[0;32mraise\u001b[0m \u001b[0merror\u001b[0m\u001b[0;34m.\u001b[0m\u001b[0mRPCError\u001b[0m\u001b[0;34m(\u001b[0m\u001b[0mself\u001b[0m\u001b[0;34m.\u001b[0m\u001b[0m_error\u001b[0m\u001b[0;34m)\u001b[0m\u001b[0;34m\u001b[0m\u001b[0;34m\u001b[0m\u001b[0m\n",
            "\u001b[0;31mTransportError\u001b[0m: Retry connection over the limit"
          ]
        }
      ]
    },
    {
      "cell_type": "code",
      "metadata": {
        "id": "ytWCRQ-FCEwr",
        "colab_type": "code",
        "colab": {
          "base_uri": "https://localhost:8080/",
          "height": 68
        },
        "outputId": "97ef01c7-934c-40c1-9ce2-1cd6ceda82b1"
      },
      "source": [
        "!pip install msgpack-rpc-python"
      ],
      "execution_count": 8,
      "outputs": [
        {
          "output_type": "stream",
          "text": [
            "Requirement already satisfied: msgpack-rpc-python in /usr/local/lib/python3.6/dist-packages (0.4.1)\n",
            "Requirement already satisfied: msgpack-python in /usr/local/lib/python3.6/dist-packages (from msgpack-rpc-python) (0.5.6)\n",
            "Requirement already satisfied: tornado<5,>=3 in /usr/local/lib/python3.6/dist-packages (from msgpack-rpc-python) (4.5.3)\n"
          ],
          "name": "stdout"
        }
      ]
    }
  ]
}